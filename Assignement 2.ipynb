{
  "nbformat": 4,
  "nbformat_minor": 0,
  "metadata": {
    "colab": {
      "name": "Untitled",
      "provenance": [],
      "authorship_tag": "ABX9TyOHqaymy/UkiXnrA+jr14tK",
      "include_colab_link": true
    },
    "kernelspec": {
      "name": "python3",
      "display_name": "Python 3"
    }
  },
  "cells": [
    {
      "cell_type": "markdown",
      "metadata": {
        "id": "view-in-github",
        "colab_type": "text"
      },
      "source": [
        "<a href=\"https://colab.research.google.com/github/Tchuissi/DATA-690-WANG/blob/master/Assignement%202.ipynb\" target=\"_parent\"><img src=\"https://colab.research.google.com/assets/colab-badge.svg\" alt=\"Open In Colab\"/></a>"
      ]
    },
    {
      "cell_type": "code",
      "metadata": {
        "id": "qKkHHkuSYPLs",
        "colab_type": "code",
        "colab": {}
      },
      "source": [
        "# \n"
      ],
      "execution_count": null,
      "outputs": []
    },
    {
      "cell_type": "code",
      "metadata": {
        "id": "zrWUgUj4S7Iz",
        "colab_type": "code",
        "colab": {}
      },
      "source": [
        ""
      ],
      "execution_count": null,
      "outputs": []
    },
    {
      "cell_type": "markdown",
      "metadata": {
        "id": "wK9dJZk6Mb2J",
        "colab_type": "text"
      },
      "source": [
        ""
      ]
    },
    {
      "cell_type": "markdown",
      "metadata": {
        "id": "xr7AM3n4Y7pE",
        "colab_type": "text"
      },
      "source": [
        "# ASSIGNMENT 2"
      ]
    },
    {
      "cell_type": "markdown",
      "metadata": {
        "id": "ZZfL2xxWY6si",
        "colab_type": "text"
      },
      "source": [
        ""
      ]
    },
    {
      "cell_type": "code",
      "metadata": {
        "id": "h_WigqBHMp22",
        "colab_type": "code",
        "colab": {
          "base_uri": "https://localhost:8080/",
          "height": 495
        },
        "outputId": "a531fac5-1108-4d39-9cef-8f3d37a01814"
      },
      "source": [
        "l =[]    # creation of an empty list\n",
        "\n",
        "count=0\n",
        "\n",
        "while True:       # create an infinite loop\n",
        "  \n",
        "     if count==10:    # create a condition to stop the infinite loop at 10 numbers\n",
        "       break\n",
        "      \n",
        "     num= input(f\"\\nplease enter an integer ({count + 1} of 10): \")    # f is for format, \\n is to have a space between lines\n",
        "\n",
        "     try:      \n",
        "        num = int (num)    # the loop is valid for integer only\n",
        "        l.append(num)   # append is a fonction that add a number to the list l\n",
        "        count = count + 1   # incrementation of 1\n",
        "\n",
        "     except:\n",
        "        print (\"\\n You have entered a non-integer. Please try again.\") # the loop is not valid, we use \"except\" to display the message\n",
        "\n",
        "print(\"\\n\", l) # make sure to align print with l=[]\n"
      ],
      "execution_count": null,
      "outputs": [
        {
          "output_type": "stream",
          "text": [
            "\n",
            "please enter an integer (1 of 10): 4\n",
            "\n",
            "please enter an integer (2 of 10): 876\n",
            "\n",
            "please enter an integer (3 of 10): 4\n",
            "\n",
            "please enter an integer (4 of 10): R\n",
            "\n",
            " You have entered a non-integer. Please try again.\n",
            "\n",
            "please enter an integer (4 of 10): 7\n",
            "\n",
            "please enter an integer (5 of 10): 453\n",
            "\n",
            "please enter an integer (6 of 10): 987\n",
            "\n",
            "please enter an integer (7 of 10): 21\n",
            "\n",
            "please enter an integer (8 of 10): 7654\n",
            "\n",
            "please enter an integer (9 of 10): 48\n",
            "\n",
            "please enter an integer (10 of 10): 98\n",
            "\n",
            " [4, 876, 4, 7, 453, 987, 21, 7654, 48, 98]\n"
          ],
          "name": "stdout"
        }
      ]
    },
    {
      "cell_type": "code",
      "metadata": {
        "id": "jHbiTR6YS-Gq",
        "colab_type": "code",
        "colab": {}
      },
      "source": [
        ""
      ],
      "execution_count": null,
      "outputs": []
    },
    {
      "cell_type": "markdown",
      "metadata": {
        "id": "Sz2PHiOoTBD7",
        "colab_type": "text"
      },
      "source": [
        "# List in order/Max and Min/Range\n",
        "\n",
        "\n",
        "\n",
        "\n"
      ]
    },
    {
      "cell_type": "code",
      "metadata": {
        "id": "x1RtimVeTIKC",
        "colab_type": "code",
        "colab": {
          "base_uri": "https://localhost:8080/",
          "height": 109
        },
        "outputId": "0793347c-833f-44f1-f2c9-f2d730d43e2f"
      },
      "source": [
        "l1=sorted(l)    #fonction sorted to get the list in order\n",
        "print(l1)\n",
        "\n",
        "lmin= min(l1)\n",
        "lmax= max (l1)\n",
        "\n",
        "print(\"\\n\",lmin, lmax)\n",
        "\n",
        "Lrange= l1[-1]-l1[0]  # As the list is in order, we can substract the last number with the first one to get the range.[0] is to call the first number, [-1] is to call the last number\n",
        "print(\"\\n\",Lrange)\n",
        "\n"
      ],
      "execution_count": 26,
      "outputs": [
        {
          "output_type": "stream",
          "text": [
            "[4, 4, 7, 21, 48, 98, 453, 876, 987, 7654]\n",
            "\n",
            " 4 7654\n",
            "\n",
            " 7650\n"
          ],
          "name": "stdout"
        }
      ]
    }
  ]
}