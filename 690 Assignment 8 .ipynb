{
 "cells": [
  {
   "cell_type": "markdown",
   "metadata": {},
   "source": [
    "Assignment 8\n",
    "\n",
    "For this assignment , we will use the college scorecard dataset.\n",
    "\n",
    "From the 22 individual school year data files, randomly (using Python) select one file. \n",
    "Only read the column \"TUITIONFEE_IN\" frm this file into a data frame.\n",
    "Find out how many observations this data frame has.\n",
    "Find out how many observations that have missing value. Drop those observations.\n",
    "Find out how many observations that have value of zero. Drop those observations.\n",
    "Calculate the mean of the tuition.\n",
    "Randomly select one observation, find out the tuition of that observation.\n",
    "Calculate the different between the tuition of this observation and the average tuition (mean) off all observations above.\n",
    "Randomly select another observation and repeat the above.\n",
    "Randomly select another observation and repeat the above.\n",
    "Randomly select 5 observations, display the tuition of these observation.\n",
    "Calculate the average of these 5 observations\n",
    "Calculate the different between the average tuition of thes 5 observations and the average tuition (mean) off all observations above.\n",
    "Randomly select another 5 observations and repeat the above.\n",
    "Randomly select another 5 observation and repeat the above.\n",
    "\n",
    "Randomly select 10 observations, display the tuition of these observation.\n",
    "Calculate the average of these 10 observations\n",
    "Calculate the different between the average tuition of thes 10 observations and the average tuition (mean) off all observations above.\n",
    "Randomly select another 10 observations and repeat the above.\n",
    "Randomly select another 10 observation and repeat the above.\n",
    "\n",
    "Randomly select 20 observations, display the tuition of these observation.\n",
    "Calculate the average of these 20 observations\n",
    "Calculate the different between the average tuition of thes 10 observations and the average tuition (mean) off all observations above.\n",
    "Randomly select another 20 observations and repeat the above.\n",
    "Randomly select another 20 observation and repeat the above.\n",
    "\n",
    "Randomly select 30 observations, display the tuition of these observation.\n",
    "Calculate the average of these 30 observations\n",
    "Calculate the different between the average tuition of thes 10 observations and the average tuition (mean) off all observations above.\n",
    "Randomly select another 30 observations and repeat the above.\n",
    "Randomly select another 30 observation and repeat the above.\n",
    "\n",
    "Write a function that take an input x (number of observations). \n",
    "The function will perform the following:\n",
    "\n",
    "Randomly select x observations, display the tuition of these observations.\n",
    "Calculate the average of these x observations\n",
    "Calculate the different between the average tuition of these x observations and the average tuition (mean) off all observations above.\n",
    "Display the difference."
   ]
  },
  {
   "cell_type": "markdown",
   "metadata": {},
   "source": [
    "## Step 1- Set up environment"
   ]
  },
  {
   "cell_type": "code",
   "execution_count": 41,
   "metadata": {},
   "outputs": [],
   "source": [
    "# 1 - Import necessary libraries\n",
    "\n",
    "import pandas as pd\n",
    "import os\n",
    "import glob\n",
    "import matplotlib.pyplot as plt\n",
    "import random"
   ]
  },
  {
   "cell_type": "code",
   "execution_count": 2,
   "metadata": {},
   "outputs": [
    {
     "data": {
      "text/plain": [
       "'C:\\\\Users\\\\Lenovo'"
      ]
     },
     "execution_count": 2,
     "metadata": {},
     "output_type": "execute_result"
    }
   ],
   "source": [
    "os.getcwd()"
   ]
  },
  {
   "cell_type": "markdown",
   "metadata": {},
   "source": [
    "## Step 2- Display the list of the 22 files"
   ]
  },
  {
   "cell_type": "markdown",
   "metadata": {},
   "source": [
    "### 2.1 Display the files in the folder"
   ]
  },
  {
   "cell_type": "code",
   "execution_count": 3,
   "metadata": {},
   "outputs": [
    {
     "name": "stdout",
     "output_type": "stream",
     "text": [
      "['.DS_Store', 'Crosswalks.zip', 'data.yaml', 'FieldOfStudyData1415_1516_PP.csv', 'FieldOfStudyData1516_1617_PP.csv', 'MERGED1996_97_PP.csv', 'MERGED1997_98_PP.csv', 'MERGED1998_99_PP.csv', 'MERGED1999_00_PP.csv', 'MERGED2000_01_PP.csv', 'MERGED2001_02_PP.csv', 'MERGED2002_03_PP.csv', 'MERGED2003_04_PP.csv', 'MERGED2004_05_PP.csv', 'MERGED2005_06_PP.csv', 'MERGED2006_07_PP.csv', 'MERGED2007_08_PP.csv', 'MERGED2008_09_PP.csv', 'MERGED2009_10_PP.csv', 'MERGED2010_11_PP.csv', 'MERGED2011_12_PP.csv', 'MERGED2012_13_PP.csv', 'MERGED2013_14_PP.csv', 'MERGED2014_15_PP.csv', 'MERGED2015_16_PP.csv', 'MERGED2016_17_PP.csv', 'MERGED2017_18_PP.csv', 'MERGED2018_19_PP.csv']\n"
     ]
    }
   ],
   "source": [
    "os.chdir('C:/Users/Lenovo/Assignment 7/CollegeScorecard_Raw_Data')   \n",
    "list_of_files= os.listdir()\n",
    "print(list_of_files)"
   ]
  },
  {
   "cell_type": "markdown",
   "metadata": {},
   "source": [
    "### 2.2 Select the yearly data files"
   ]
  },
  {
   "cell_type": "code",
   "execution_count": 4,
   "metadata": {},
   "outputs": [
    {
     "name": "stdout",
     "output_type": "stream",
     "text": [
      "['MERGED1996_97_PP.csv', 'MERGED1997_98_PP.csv', 'MERGED1998_99_PP.csv', 'MERGED1999_00_PP.csv', 'MERGED2000_01_PP.csv', 'MERGED2001_02_PP.csv', 'MERGED2002_03_PP.csv', 'MERGED2003_04_PP.csv', 'MERGED2004_05_PP.csv', 'MERGED2005_06_PP.csv', 'MERGED2006_07_PP.csv', 'MERGED2007_08_PP.csv', 'MERGED2008_09_PP.csv', 'MERGED2009_10_PP.csv', 'MERGED2010_11_PP.csv', 'MERGED2011_12_PP.csv', 'MERGED2012_13_PP.csv', 'MERGED2013_14_PP.csv', 'MERGED2014_15_PP.csv', 'MERGED2015_16_PP.csv', 'MERGED2016_17_PP.csv', 'MERGED2017_18_PP.csv', 'MERGED2018_19_PP.csv'] <class 'list'>\n"
     ]
    }
   ],
   "source": [
    "# 2 - Retrieve the names of the 22 files and assign them to a List variable\n",
    "# You would need to filter out other files\n",
    "# Display the names of these 22 files\n",
    "\n",
    "import glob\n",
    "list_of_files=(glob.glob(\"MERGED*.csv\"))\n",
    "print(list_of_files, type(list_of_files))"
   ]
  },
  {
   "cell_type": "code",
   "execution_count": 5,
   "metadata": {},
   "outputs": [
    {
     "data": {
      "text/plain": [
       "23"
      ]
     },
     "execution_count": 5,
     "metadata": {},
     "output_type": "execute_result"
    }
   ],
   "source": [
    "len(list_of_files)"
   ]
  },
  {
   "cell_type": "markdown",
   "metadata": {},
   "source": [
    "## Step 3- Select a random file"
   ]
  },
  {
   "cell_type": "markdown",
   "metadata": {},
   "source": [
    "### 3.1 Select a random file"
   ]
  },
  {
   "cell_type": "code",
   "execution_count": 6,
   "metadata": {},
   "outputs": [
    {
     "name": "stdout",
     "output_type": "stream",
     "text": [
      "MERGED2004_05_PP.csv\n"
     ]
    }
   ],
   "source": [
    "# 3 - Write code to randomly select one file name out of the 22 files names. \n",
    "# Hint: generate a random integer between 0 and 21 first\n",
    "# Display the file name\n",
    "\n",
    "random_file=random.choice(list_of_files)\n",
    "print(random_file)"
   ]
  },
  {
   "cell_type": "markdown",
   "metadata": {},
   "source": [
    "### 3.2 Read the file and display the info"
   ]
  },
  {
   "cell_type": "code",
   "execution_count": 7,
   "metadata": {},
   "outputs": [
    {
     "name": "stdout",
     "output_type": "stream",
     "text": [
      "<class 'pandas.core.frame.DataFrame'>\n",
      "RangeIndex: 6747 entries, 0 to 6746\n",
      "Data columns (total 2 columns):\n",
      " #   Column         Non-Null Count  Dtype  \n",
      "---  ------         --------------  -----  \n",
      " 0   INSTNM         6747 non-null   object \n",
      " 1   TUITIONFEE_IN  4188 non-null   float64\n",
      "dtypes: float64(1), object(1)\n",
      "memory usage: 105.5+ KB\n"
     ]
    }
   ],
   "source": [
    "# 4 - Only read the two columns: college name (INSTNM) and in state tution (\"TUITIONFEE_IN\")\n",
    "# from this file into a data frame aand display use info() function to display a summary information\n",
    "\n",
    "df=pd.read_csv(random_file, index_col=None, header=0, usecols=[\"INSTNM\",\"TUITIONFEE_IN\"])\n",
    "df.info()"
   ]
  },
  {
   "cell_type": "markdown",
   "metadata": {},
   "source": [
    "### 3.2 Display the number of missing values"
   ]
  },
  {
   "cell_type": "code",
   "execution_count": 8,
   "metadata": {},
   "outputs": [
    {
     "data": {
      "text/plain": [
       "2559"
      ]
     },
     "execution_count": 8,
     "metadata": {},
     "output_type": "execute_result"
    }
   ],
   "source": [
    "# 5 - Find out how many observations have missing value.\n",
    "\n",
    "df[\"TUITIONFEE_IN\"].isna().sum()"
   ]
  },
  {
   "cell_type": "markdown",
   "metadata": {},
   "source": [
    "### 3.3 Remove the missing values"
   ]
  },
  {
   "cell_type": "code",
   "execution_count": 9,
   "metadata": {},
   "outputs": [
    {
     "name": "stdout",
     "output_type": "stream",
     "text": [
      "<class 'pandas.core.frame.DataFrame'>\n",
      "Int64Index: 4188 entries, 1 to 6746\n",
      "Data columns (total 2 columns):\n",
      " #   Column         Non-Null Count  Dtype  \n",
      "---  ------         --------------  -----  \n",
      " 0   INSTNM         4188 non-null   object \n",
      " 1   TUITIONFEE_IN  4188 non-null   float64\n",
      "dtypes: float64(1), object(1)\n",
      "memory usage: 98.2+ KB\n"
     ]
    }
   ],
   "source": [
    "# 6 - Drop those observations with missing value\n",
    "# Disaply the number of observations afterward\n",
    "\n",
    "df.dropna(inplace=True)\n",
    "df.info()"
   ]
  },
  {
   "cell_type": "markdown",
   "metadata": {},
   "source": [
    "### 3.4 Display the observations with 0 tuition "
   ]
  },
  {
   "cell_type": "code",
   "execution_count": 10,
   "metadata": {},
   "outputs": [
    {
     "data": {
      "text/html": [
       "<div>\n",
       "<style scoped>\n",
       "    .dataframe tbody tr th:only-of-type {\n",
       "        vertical-align: middle;\n",
       "    }\n",
       "\n",
       "    .dataframe tbody tr th {\n",
       "        vertical-align: top;\n",
       "    }\n",
       "\n",
       "    .dataframe thead th {\n",
       "        text-align: right;\n",
       "    }\n",
       "</style>\n",
       "<table border=\"1\" class=\"dataframe\">\n",
       "  <thead>\n",
       "    <tr style=\"text-align: right;\">\n",
       "      <th></th>\n",
       "      <th>INSTNM</th>\n",
       "      <th>TUITIONFEE_IN</th>\n",
       "    </tr>\n",
       "  </thead>\n",
       "  <tbody>\n",
       "    <tr>\n",
       "      <th>701</th>\n",
       "      <td>United States Air Force Academy</td>\n",
       "      <td>0.0</td>\n",
       "    </tr>\n",
       "    <tr>\n",
       "      <th>1856</th>\n",
       "      <td>United States Naval Academy</td>\n",
       "      <td>0.0</td>\n",
       "    </tr>\n",
       "    <tr>\n",
       "      <th>2417</th>\n",
       "      <td>Benefis Healthcare School of Radiologic Techno...</td>\n",
       "      <td>0.0</td>\n",
       "    </tr>\n",
       "    <tr>\n",
       "      <th>2981</th>\n",
       "      <td>United States Merchant Marine Academy</td>\n",
       "      <td>0.0</td>\n",
       "    </tr>\n",
       "    <tr>\n",
       "      <th>2982</th>\n",
       "      <td>United States Military Academy</td>\n",
       "      <td>0.0</td>\n",
       "    </tr>\n",
       "    <tr>\n",
       "      <th>2989</th>\n",
       "      <td>Webb Institute</td>\n",
       "      <td>0.0</td>\n",
       "    </tr>\n",
       "    <tr>\n",
       "      <th>5685</th>\n",
       "      <td>Charles H McCann Technical School</td>\n",
       "      <td>0.0</td>\n",
       "    </tr>\n",
       "  </tbody>\n",
       "</table>\n",
       "</div>"
      ],
      "text/plain": [
       "                                                 INSTNM  TUITIONFEE_IN\n",
       "701                     United States Air Force Academy            0.0\n",
       "1856                        United States Naval Academy            0.0\n",
       "2417  Benefis Healthcare School of Radiologic Techno...            0.0\n",
       "2981              United States Merchant Marine Academy            0.0\n",
       "2982                     United States Military Academy            0.0\n",
       "2989                                     Webb Institute            0.0\n",
       "5685                  Charles H McCann Technical School            0.0"
      ]
     },
     "execution_count": 10,
     "metadata": {},
     "output_type": "execute_result"
    }
   ],
   "source": [
    "# 7 - Find out how many observations have 0 tution.\n",
    "\n",
    "df[df[\"TUITIONFEE_IN\"] == 0]\n"
   ]
  },
  {
   "cell_type": "markdown",
   "metadata": {},
   "source": [
    "### 3.5 Remove the observations with 0 tuition"
   ]
  },
  {
   "cell_type": "code",
   "execution_count": 11,
   "metadata": {},
   "outputs": [
    {
     "name": "stdout",
     "output_type": "stream",
     "text": [
      "<class 'pandas.core.frame.DataFrame'>\n",
      "Int64Index: 4181 entries, 1 to 6746\n",
      "Data columns (total 2 columns):\n",
      " #   Column         Non-Null Count  Dtype  \n",
      "---  ------         --------------  -----  \n",
      " 0   INSTNM         4181 non-null   object \n",
      " 1   TUITIONFEE_IN  4181 non-null   float64\n",
      "dtypes: float64(1), object(1)\n",
      "memory usage: 98.0+ KB\n"
     ]
    }
   ],
   "source": [
    "# 8 - Drop those observations with 0 tuition\n",
    "# Disaply the number of observations afterward\n",
    "\n",
    "df = df[df[\"TUITIONFEE_IN\"] != 0]\n",
    "df.info()"
   ]
  },
  {
   "cell_type": "code",
   "execution_count": 12,
   "metadata": {},
   "outputs": [
    {
     "data": {
      "text/html": [
       "<div>\n",
       "<style scoped>\n",
       "    .dataframe tbody tr th:only-of-type {\n",
       "        vertical-align: middle;\n",
       "    }\n",
       "\n",
       "    .dataframe tbody tr th {\n",
       "        vertical-align: top;\n",
       "    }\n",
       "\n",
       "    .dataframe thead th {\n",
       "        text-align: right;\n",
       "    }\n",
       "</style>\n",
       "<table border=\"1\" class=\"dataframe\">\n",
       "  <thead>\n",
       "    <tr style=\"text-align: right;\">\n",
       "      <th></th>\n",
       "      <th>INSTNM</th>\n",
       "      <th>TUITIONFEE_IN</th>\n",
       "    </tr>\n",
       "  </thead>\n",
       "  <tbody>\n",
       "    <tr>\n",
       "      <th>count</th>\n",
       "      <td>4181</td>\n",
       "      <td>4181.000000</td>\n",
       "    </tr>\n",
       "    <tr>\n",
       "      <th>unique</th>\n",
       "      <td>4113</td>\n",
       "      <td>NaN</td>\n",
       "    </tr>\n",
       "    <tr>\n",
       "      <th>top</th>\n",
       "      <td>Westminster College</td>\n",
       "      <td>NaN</td>\n",
       "    </tr>\n",
       "    <tr>\n",
       "      <th>freq</th>\n",
       "      <td>3</td>\n",
       "      <td>NaN</td>\n",
       "    </tr>\n",
       "    <tr>\n",
       "      <th>mean</th>\n",
       "      <td>NaN</td>\n",
       "      <td>9008.092083</td>\n",
       "    </tr>\n",
       "    <tr>\n",
       "      <th>std</th>\n",
       "      <td>NaN</td>\n",
       "      <td>7329.527637</td>\n",
       "    </tr>\n",
       "    <tr>\n",
       "      <th>min</th>\n",
       "      <td>NaN</td>\n",
       "      <td>150.000000</td>\n",
       "    </tr>\n",
       "    <tr>\n",
       "      <th>25%</th>\n",
       "      <td>NaN</td>\n",
       "      <td>2850.000000</td>\n",
       "    </tr>\n",
       "    <tr>\n",
       "      <th>50%</th>\n",
       "      <td>NaN</td>\n",
       "      <td>7200.000000</td>\n",
       "    </tr>\n",
       "    <tr>\n",
       "      <th>75%</th>\n",
       "      <td>NaN</td>\n",
       "      <td>13540.000000</td>\n",
       "    </tr>\n",
       "    <tr>\n",
       "      <th>max</th>\n",
       "      <td>NaN</td>\n",
       "      <td>56930.000000</td>\n",
       "    </tr>\n",
       "  </tbody>\n",
       "</table>\n",
       "</div>"
      ],
      "text/plain": [
       "                     INSTNM  TUITIONFEE_IN\n",
       "count                  4181    4181.000000\n",
       "unique                 4113            NaN\n",
       "top     Westminster College            NaN\n",
       "freq                      3            NaN\n",
       "mean                    NaN    9008.092083\n",
       "std                     NaN    7329.527637\n",
       "min                     NaN     150.000000\n",
       "25%                     NaN    2850.000000\n",
       "50%                     NaN    7200.000000\n",
       "75%                     NaN   13540.000000\n",
       "max                     NaN   56930.000000"
      ]
     },
     "execution_count": 12,
     "metadata": {},
     "output_type": "execute_result"
    }
   ],
   "source": [
    "\n",
    "df.describe(include=\"all\")\n"
   ]
  },
  {
   "cell_type": "markdown",
   "metadata": {},
   "source": [
    "## Step 4 - Statistical analysis - Part 1"
   ]
  },
  {
   "cell_type": "markdown",
   "metadata": {},
   "source": [
    "### 4.1 Calculate the mean of the tuitions"
   ]
  },
  {
   "cell_type": "code",
   "execution_count": 13,
   "metadata": {},
   "outputs": [
    {
     "data": {
      "text/plain": [
       "9008.092083233676"
      ]
     },
     "execution_count": 13,
     "metadata": {},
     "output_type": "execute_result"
    }
   ],
   "source": [
    "# 9 - Calculate and display the mean (average) of the tuitions of all the remaining observations\n",
    "\n",
    "df_mean=df[\"TUITIONFEE_IN\"].mean()\n",
    "df_mean"
   ]
  },
  {
   "cell_type": "markdown",
   "metadata": {},
   "source": [
    "### 4.2 Select a random observation"
   ]
  },
  {
   "cell_type": "code",
   "execution_count": 14,
   "metadata": {},
   "outputs": [
    {
     "data": {
      "text/html": [
       "<div>\n",
       "<style scoped>\n",
       "    .dataframe tbody tr th:only-of-type {\n",
       "        vertical-align: middle;\n",
       "    }\n",
       "\n",
       "    .dataframe tbody tr th {\n",
       "        vertical-align: top;\n",
       "    }\n",
       "\n",
       "    .dataframe thead th {\n",
       "        text-align: right;\n",
       "    }\n",
       "</style>\n",
       "<table border=\"1\" class=\"dataframe\">\n",
       "  <thead>\n",
       "    <tr style=\"text-align: right;\">\n",
       "      <th></th>\n",
       "      <th>INSTNM</th>\n",
       "      <th>TUITIONFEE_IN</th>\n",
       "    </tr>\n",
       "  </thead>\n",
       "  <tbody>\n",
       "    <tr>\n",
       "      <th>41</th>\n",
       "      <td>University of Montevallo</td>\n",
       "      <td>4418.0</td>\n",
       "    </tr>\n",
       "  </tbody>\n",
       "</table>\n",
       "</div>"
      ],
      "text/plain": [
       "                      INSTNM  TUITIONFEE_IN\n",
       "41  University of Montevallo         4418.0"
      ]
     },
     "execution_count": 14,
     "metadata": {},
     "output_type": "execute_result"
    }
   ],
   "source": [
    "# 10 - Randomly select just 1 observation from the data frame.\n",
    "# Display the tuition of that observation.\n",
    "\n",
    "df1=df.sample()\n",
    "df1\n"
   ]
  },
  {
   "cell_type": "code",
   "execution_count": 15,
   "metadata": {},
   "outputs": [
    {
     "data": {
      "text/plain": [
       "41    4418.0\n",
       "Name: TUITIONFEE_IN, dtype: float64"
      ]
     },
     "execution_count": 15,
     "metadata": {},
     "output_type": "execute_result"
    }
   ],
   "source": [
    "Tuition1=df1[\"TUITIONFEE_IN\"]\n",
    "Tuition1"
   ]
  },
  {
   "cell_type": "markdown",
   "metadata": {},
   "source": [
    "### 4.3 Calculate the tuition difference against the tuition's mean"
   ]
  },
  {
   "cell_type": "code",
   "execution_count": 16,
   "metadata": {},
   "outputs": [
    {
     "data": {
      "text/plain": [
       "41   -4590.092083\n",
       "Name: TUITIONFEE_IN, dtype: float64"
      ]
     },
     "execution_count": 16,
     "metadata": {},
     "output_type": "execute_result"
    }
   ],
   "source": [
    "# 11 - Calculate the different between the tuition of this observation and \n",
    "# the mean tuition off all observations calculated earlier.\n",
    "# Display the difference\n",
    "\n",
    "Difference1= Tuition1-df_mean\n",
    "Difference1"
   ]
  },
  {
   "cell_type": "markdown",
   "metadata": {},
   "source": [
    "### 4.4 Repeat the process 10 times"
   ]
  },
  {
   "cell_type": "code",
   "execution_count": 17,
   "metadata": {},
   "outputs": [
    {
     "data": {
      "text/plain": [
       "827   -7393.092083\n",
       "Name: TUITIONFEE_IN, dtype: float64"
      ]
     },
     "execution_count": 17,
     "metadata": {},
     "output_type": "execute_result"
    }
   ],
   "source": [
    "# 12 - Repeat 10 to 11 several times get the feel of the size of the difference in means\n",
    "\n",
    "df2 = df.sample()\n",
    "Tuition2=df2[\"TUITIONFEE_IN\"]\n",
    "Difference2= Tuition2-df_mean\n",
    "Difference2"
   ]
  },
  {
   "cell_type": "code",
   "execution_count": 18,
   "metadata": {},
   "outputs": [
    {
     "data": {
      "text/plain": [
       "69    8191.907917\n",
       "Name: TUITIONFEE_IN, dtype: float64"
      ]
     },
     "execution_count": 18,
     "metadata": {},
     "output_type": "execute_result"
    }
   ],
   "source": [
    "df3 = df.sample()\n",
    "Tuition3=df3[\"TUITIONFEE_IN\"]\n",
    "Difference3= Tuition3-df_mean\n",
    "Difference3"
   ]
  },
  {
   "cell_type": "code",
   "execution_count": 19,
   "metadata": {},
   "outputs": [
    {
     "data": {
      "text/plain": [
       "5203    2421.907917\n",
       "Name: TUITIONFEE_IN, dtype: float64"
      ]
     },
     "execution_count": 19,
     "metadata": {},
     "output_type": "execute_result"
    }
   ],
   "source": [
    "df4 = df.sample()\n",
    "Tuition4=df4[\"TUITIONFEE_IN\"]\n",
    "Difference4= Tuition4-df_mean\n",
    "Difference4"
   ]
  },
  {
   "cell_type": "code",
   "execution_count": 20,
   "metadata": {},
   "outputs": [
    {
     "data": {
      "text/plain": [
       "1222    1051.907917\n",
       "Name: TUITIONFEE_IN, dtype: float64"
      ]
     },
     "execution_count": 20,
     "metadata": {},
     "output_type": "execute_result"
    }
   ],
   "source": [
    "df5 = df.sample()\n",
    "Tuition5=df5[\"TUITIONFEE_IN\"]\n",
    "Difference5= Tuition5-df_mean\n",
    "Difference5"
   ]
  },
  {
   "cell_type": "code",
   "execution_count": 21,
   "metadata": {},
   "outputs": [
    {
     "data": {
      "text/plain": [
       "3017    5831.907917\n",
       "Name: TUITIONFEE_IN, dtype: float64"
      ]
     },
     "execution_count": 21,
     "metadata": {},
     "output_type": "execute_result"
    }
   ],
   "source": [
    "df6 = df.sample()\n",
    "Tuition6=df6[\"TUITIONFEE_IN\"]\n",
    "Difference6= Tuition6-df_mean\n",
    "Difference6"
   ]
  },
  {
   "cell_type": "code",
   "execution_count": 22,
   "metadata": {},
   "outputs": [
    {
     "data": {
      "text/plain": [
       "3402    17551.907917\n",
       "Name: TUITIONFEE_IN, dtype: float64"
      ]
     },
     "execution_count": 22,
     "metadata": {},
     "output_type": "execute_result"
    }
   ],
   "source": [
    "df7 = df.sample()\n",
    "Tuition7=df7[\"TUITIONFEE_IN\"]\n",
    "Difference7= Tuition7-df_mean\n",
    "Difference7"
   ]
  },
  {
   "cell_type": "code",
   "execution_count": 23,
   "metadata": {},
   "outputs": [
    {
     "data": {
      "text/plain": [
       "1441   -6824.092083\n",
       "Name: TUITIONFEE_IN, dtype: float64"
      ]
     },
     "execution_count": 23,
     "metadata": {},
     "output_type": "execute_result"
    }
   ],
   "source": [
    "df8 = df.sample()\n",
    "Tuition8=df8[\"TUITIONFEE_IN\"]\n",
    "Difference8= Tuition8-df_mean\n",
    "Difference8"
   ]
  },
  {
   "cell_type": "code",
   "execution_count": 24,
   "metadata": {},
   "outputs": [
    {
     "data": {
      "text/plain": [
       "1521   -7152.092083\n",
       "Name: TUITIONFEE_IN, dtype: float64"
      ]
     },
     "execution_count": 24,
     "metadata": {},
     "output_type": "execute_result"
    }
   ],
   "source": [
    "df9 = df.sample()\n",
    "Tuition9=df9[\"TUITIONFEE_IN\"]\n",
    "Difference9= Tuition9-df_mean\n",
    "Difference9"
   ]
  },
  {
   "cell_type": "markdown",
   "metadata": {},
   "source": [
    "### 4.5 Select 20 random observations"
   ]
  },
  {
   "cell_type": "code",
   "execution_count": 25,
   "metadata": {},
   "outputs": [
    {
     "data": {
      "text/html": [
       "<div>\n",
       "<style scoped>\n",
       "    .dataframe tbody tr th:only-of-type {\n",
       "        vertical-align: middle;\n",
       "    }\n",
       "\n",
       "    .dataframe tbody tr th {\n",
       "        vertical-align: top;\n",
       "    }\n",
       "\n",
       "    .dataframe thead th {\n",
       "        text-align: right;\n",
       "    }\n",
       "</style>\n",
       "<table border=\"1\" class=\"dataframe\">\n",
       "  <thead>\n",
       "    <tr style=\"text-align: right;\">\n",
       "      <th></th>\n",
       "      <th>INSTNM</th>\n",
       "      <th>TUITIONFEE_IN</th>\n",
       "    </tr>\n",
       "  </thead>\n",
       "  <tbody>\n",
       "    <tr>\n",
       "      <th>3872</th>\n",
       "      <td>Columbia International University</td>\n",
       "      <td>12820.0</td>\n",
       "    </tr>\n",
       "    <tr>\n",
       "      <th>535</th>\n",
       "      <td>University of Redlands</td>\n",
       "      <td>25524.0</td>\n",
       "    </tr>\n",
       "    <tr>\n",
       "      <th>518</th>\n",
       "      <td>Palo Verde College</td>\n",
       "      <td>728.0</td>\n",
       "    </tr>\n",
       "    <tr>\n",
       "      <th>6642</th>\n",
       "      <td>UEI College</td>\n",
       "      <td>10995.0</td>\n",
       "    </tr>\n",
       "    <tr>\n",
       "      <th>2301</th>\n",
       "      <td>DeVry University-Missouri</td>\n",
       "      <td>11200.0</td>\n",
       "    </tr>\n",
       "    <tr>\n",
       "      <th>27</th>\n",
       "      <td>Heritage Christian University</td>\n",
       "      <td>6840.0</td>\n",
       "    </tr>\n",
       "    <tr>\n",
       "      <th>2901</th>\n",
       "      <td>Sage College of Albany</td>\n",
       "      <td>16020.0</td>\n",
       "    </tr>\n",
       "    <tr>\n",
       "      <th>3628</th>\n",
       "      <td>Gannon University</td>\n",
       "      <td>18020.0</td>\n",
       "    </tr>\n",
       "    <tr>\n",
       "      <th>2193</th>\n",
       "      <td>Pine Technical &amp; Community College</td>\n",
       "      <td>2856.0</td>\n",
       "    </tr>\n",
       "    <tr>\n",
       "      <th>6607</th>\n",
       "      <td>Vatterott College-St Charles</td>\n",
       "      <td>8885.0</td>\n",
       "    </tr>\n",
       "    <tr>\n",
       "      <th>2001</th>\n",
       "      <td>Wheelock College</td>\n",
       "      <td>22500.0</td>\n",
       "    </tr>\n",
       "    <tr>\n",
       "      <th>430</th>\n",
       "      <td>Los Angeles Valley College</td>\n",
       "      <td>780.0</td>\n",
       "    </tr>\n",
       "    <tr>\n",
       "      <th>4501</th>\n",
       "      <td>Wenatchee Valley College</td>\n",
       "      <td>2313.0</td>\n",
       "    </tr>\n",
       "    <tr>\n",
       "      <th>2412</th>\n",
       "      <td>Blackfeet Community College</td>\n",
       "      <td>2000.0</td>\n",
       "    </tr>\n",
       "    <tr>\n",
       "      <th>4864</th>\n",
       "      <td>West Virginia Junior College-United Career Ins...</td>\n",
       "      <td>8550.0</td>\n",
       "    </tr>\n",
       "    <tr>\n",
       "      <th>2799</th>\n",
       "      <td>Katharine Gibbs School</td>\n",
       "      <td>15017.0</td>\n",
       "    </tr>\n",
       "    <tr>\n",
       "      <th>755</th>\n",
       "      <td>Sacred Heart University</td>\n",
       "      <td>21990.0</td>\n",
       "    </tr>\n",
       "    <tr>\n",
       "      <th>6180</th>\n",
       "      <td>Westwood College-River Oaks</td>\n",
       "      <td>11187.0</td>\n",
       "    </tr>\n",
       "    <tr>\n",
       "      <th>6341</th>\n",
       "      <td>San Joaquin Valley College-Ontario</td>\n",
       "      <td>10540.0</td>\n",
       "    </tr>\n",
       "    <tr>\n",
       "      <th>1240</th>\n",
       "      <td>North Park University</td>\n",
       "      <td>20350.0</td>\n",
       "    </tr>\n",
       "  </tbody>\n",
       "</table>\n",
       "</div>"
      ],
      "text/plain": [
       "                                                 INSTNM  TUITIONFEE_IN\n",
       "3872                  Columbia International University        12820.0\n",
       "535                              University of Redlands        25524.0\n",
       "518                                  Palo Verde College          728.0\n",
       "6642                                        UEI College        10995.0\n",
       "2301                          DeVry University-Missouri        11200.0\n",
       "27                        Heritage Christian University         6840.0\n",
       "2901                             Sage College of Albany        16020.0\n",
       "3628                                  Gannon University        18020.0\n",
       "2193                 Pine Technical & Community College         2856.0\n",
       "6607                       Vatterott College-St Charles         8885.0\n",
       "2001                                   Wheelock College        22500.0\n",
       "430                          Los Angeles Valley College          780.0\n",
       "4501                           Wenatchee Valley College         2313.0\n",
       "2412                        Blackfeet Community College         2000.0\n",
       "4864  West Virginia Junior College-United Career Ins...         8550.0\n",
       "2799                             Katharine Gibbs School        15017.0\n",
       "755                             Sacred Heart University        21990.0\n",
       "6180                        Westwood College-River Oaks        11187.0\n",
       "6341                 San Joaquin Valley College-Ontario        10540.0\n",
       "1240                              North Park University        20350.0"
      ]
     },
     "execution_count": 25,
     "metadata": {},
     "output_type": "execute_result"
    }
   ],
   "source": [
    "# 13 - Randomly select 20 observations, display the tuition of these observation.\n",
    "\n",
    "df20 = df.sample(20)\n",
    "df20"
   ]
  },
  {
   "cell_type": "markdown",
   "metadata": {},
   "source": [
    "### 4.6 Display the mean tuition"
   ]
  },
  {
   "cell_type": "code",
   "execution_count": 60,
   "metadata": {},
   "outputs": [
    {
     "data": {
      "text/plain": [
       "10518.52"
      ]
     },
     "execution_count": 60,
     "metadata": {},
     "output_type": "execute_result"
    }
   ],
   "source": [
    "# 14 - Calculate and display the mean tuition of these 20 observations\n",
    "\n",
    "Tuition20=df20[\"TUITIONFEE_IN\"].mean()\n",
    "Tuition20"
   ]
  },
  {
   "cell_type": "markdown",
   "metadata": {},
   "source": [
    "### 4.7 Calculate the difference between means"
   ]
  },
  {
   "cell_type": "code",
   "execution_count": 61,
   "metadata": {},
   "outputs": [
    {
     "data": {
      "text/plain": [
       "1510.4279167663244"
      ]
     },
     "execution_count": 61,
     "metadata": {},
     "output_type": "execute_result"
    }
   ],
   "source": [
    "# 15 - Calculate  the different between the average tuition of these 20 observations \n",
    "# and the mean tuition off all observations calculated earlier.\n",
    "# Display the difference\n",
    "\n",
    "Difference20= Tuition20-df_mean\n",
    "Difference20"
   ]
  },
  {
   "cell_type": "markdown",
   "metadata": {},
   "source": [
    "### 4.8 Repeat the process"
   ]
  },
  {
   "cell_type": "code",
   "execution_count": 64,
   "metadata": {},
   "outputs": [
    {
     "data": {
      "text/plain": [
       "-2215.9520832336757"
      ]
     },
     "execution_count": 64,
     "metadata": {},
     "output_type": "execute_result"
    }
   ],
   "source": [
    "\n",
    "# 16 - Repeat 13 to 15 several times and get the feel of the size of the difference in means \n",
    "# Compare these differences with the differences calculated earlier with just 1 observation\n",
    "# Describe your hunch/conclusion\n",
    "\n",
    "df50 = df.sample(50)\n",
    "Tuition50=df50[\"TUITIONFEE_IN\"].mean()\n",
    "Difference50= Tuition50-df_mean\n",
    "Difference50\n"
   ]
  },
  {
   "cell_type": "code",
   "execution_count": 65,
   "metadata": {},
   "outputs": [
    {
     "data": {
      "text/plain": [
       "-82.74208323367566"
      ]
     },
     "execution_count": 65,
     "metadata": {},
     "output_type": "execute_result"
    }
   ],
   "source": [
    "df100 = df.sample(100)\n",
    "Tuition100=df100[\"TUITIONFEE_IN\"].mean()\n",
    "Difference100= Tuition100-df_mean\n",
    "Difference100"
   ]
  },
  {
   "cell_type": "code",
   "execution_count": 66,
   "metadata": {},
   "outputs": [
    {
     "data": {
      "text/plain": [
       "114.38191676632414"
      ]
     },
     "execution_count": 66,
     "metadata": {},
     "output_type": "execute_result"
    }
   ],
   "source": [
    "df1000 = df.sample(1000)\n",
    "Tuition1000=df1000[\"TUITIONFEE_IN\"].mean()\n",
    "Difference1000= Tuition1000-df_mean\n",
    "Difference1000"
   ]
  },
  {
   "cell_type": "code",
   "execution_count": 69,
   "metadata": {},
   "outputs": [
    {
     "data": {
      "text/plain": [
       "-49.00008323367547"
      ]
     },
     "execution_count": 69,
     "metadata": {},
     "output_type": "execute_result"
    }
   ],
   "source": [
    "df2000 = df.sample(2000)\n",
    "Tuition2000=df2000[\"TUITIONFEE_IN\"].mean()\n",
    "Difference2000= Tuition2000-df_mean\n",
    "Difference2000"
   ]
  },
  {
   "cell_type": "markdown",
   "metadata": {},
   "source": [
    "## Step 5 - Statistical analysis (Part 2)"
   ]
  },
  {
   "cell_type": "markdown",
   "metadata": {},
   "source": [
    "### 5.1 Creation of a function to calculate the difference of the means"
   ]
  },
  {
   "cell_type": "markdown",
   "metadata": {},
   "source": [
    "\n",
    "Write a function that take two input parameters:\n",
    "\n",
    "x (number of observations)\n",
    "y (the name of the dataframe).\n",
    "The function will perform the following:\n",
    "\n",
    "Randomly select x observations from y\n",
    "Calculate the mean of these x observations\n",
    "Calculate the mean of all observations\n",
    "Calculate the difference between the two means\n",
    "Return the difference"
   ]
  },
  {
   "cell_type": "code",
   "execution_count": 72,
   "metadata": {},
   "outputs": [],
   "source": [
    "# 17 - write function Code here\n",
    "\n",
    "def difference(x,y):\n",
    "    df_x=y.sample(x)\n",
    "    mean_x=df_x[\"TUITIONFEE_IN\"].mean()\n",
    "    df_mean=df[\"TUITIONFEE_IN\"].mean()\n",
    "    \n",
    "    return mean_x-df_mean"
   ]
  },
  {
   "cell_type": "markdown",
   "metadata": {},
   "source": [
    "### 5.2 Test the function"
   ]
  },
  {
   "cell_type": "code",
   "execution_count": 73,
   "metadata": {},
   "outputs": [
    {
     "data": {
      "text/plain": [
       "6684.907916766324"
      ]
     },
     "execution_count": 73,
     "metadata": {},
     "output_type": "execute_result"
    }
   ],
   "source": [
    "# 18 - test the function by passing a sample size and the name of the dataframe\n",
    "# Dsplay the return of the function\n",
    "\n",
    "difference(2,df)"
   ]
  },
  {
   "cell_type": "markdown",
   "metadata": {},
   "source": [
    "### 5.3 Creation of the sample size list"
   ]
  },
  {
   "cell_type": "code",
   "execution_count": 36,
   "metadata": {},
   "outputs": [
    {
     "name": "stdout",
     "output_type": "stream",
     "text": [
      "[0, 1, 2, 3, 4, 5, 6, 7, 8, 9, 10, 11, 12, 13, 14, 15, 16, 17, 18, 19, 20, 21, 22, 23, 24, 25, 26, 27, 28, 29, 30, 31, 32, 33, 34, 35, 36, 37, 38, 39, 40, 41, 42, 43, 44, 45, 46, 47, 48, 49, 50]\n"
     ]
    }
   ],
   "source": [
    "# 19 - Create a list of sequence numbers from 1 to 50, name it \"sample_sizes\";\n",
    "# display it to make sure its members are from 1 to 50\n",
    "\n",
    "sample_size=list(range(51))\n",
    "print(sample_size)"
   ]
  },
  {
   "cell_type": "markdown",
   "metadata": {},
   "source": [
    "### 5.3 Creation of the list of the mean differences"
   ]
  },
  {
   "cell_type": "code",
   "execution_count": 39,
   "metadata": {},
   "outputs": [
    {
     "name": "stdout",
     "output_type": "stream",
     "text": [
      "[nan, -6722.092083233676, -1483.092083233676, -3457.425416567009, -1414.842083233676, -2847.6920832336764, -923.092083233676, 2305.1936310520377, -2407.092083233676, -252.8698610114534, -2948.1920832336764, -3083.182992324585, -2730.592083233676, -3318.015160156753, -3191.734940376533, -313.35874990034245, -3093.654583233676, 2127.9667402957366, 2725.2968056552127, -1529.7236621810443, -2324.292083233676, 1140.6222024806102, 510.907916766324, -294.48338758150203, -841.217083233676, -209.73208323367544, 1986.869455227863, 1922.3523612107692, -2668.234940376533, -432.91966944057276, -437.22541656700923, -2545.382405814321, -507.810833233676, -1177.72844687004, -278.12149499838233, 1791.0507739091809, -203.25874990034208, -1709.6326237742169, 1331.697390450534, -1901.2459293875218, 910.6829167663236, -1596.7750100629446, -2001.5206546622476, -1769.092083233676, -1399.387537779131, -1263.8698610114534, 589.25574285328, -788.9218704677187, 1770.01208343299, -183.0716750704105, 116.30791676632361]\n"
     ]
    }
   ],
   "source": [
    "\n",
    "# 20 - Create an empty list and name it \"means_diff\" for differences of population mean and sample means;\n",
    "# Loop through the list sample_sizes:\n",
    "# For each element in the sample size list, obtain a random sample of that size from the data frame;\n",
    "# Calculate the sample mean \n",
    "# Calculate the difference between the population mean and the sample mean\n",
    "# Append the difference to the list \"means_diff\"\n",
    "# Display the list \"means_diff\" after the loop is completed\n",
    "\n",
    "means_diff=[]\n",
    "\n",
    "for elem in sample_size:\n",
    "    df_elem=df.sample(elem)\n",
    "    mean_elem=df_elem['TUITIONFEE_IN'].mean()\n",
    "    difference=mean_elem-df_mean\n",
    "    means_diff.append(difference)\n",
    "\n",
    "print(means_diff)"
   ]
  },
  {
   "cell_type": "markdown",
   "metadata": {},
   "source": [
    "### 5.4 Visualization of the data"
   ]
  },
  {
   "cell_type": "code",
   "execution_count": 54,
   "metadata": {},
   "outputs": [
    {
     "data": {
      "image/png": "[encoded data removed]",
      "text/plain": [
       "<Figure size 1080x576 with 1 Axes>"
      ]
     },
     "metadata": {
      "needs_background": "light"
     },
     "output_type": "display_data"
    }
   ],
   "source": [
    "# 21 - Make a scatter plot with sample size on the x-axs and  mean difference on the y-axis\n",
    "# Observe as the sample size increases, the sample means converge to the population mean.\n",
    "# Make sure you make the plot large enough\n",
    "\n",
    "plt.scatter(sample_size,means_diff,plt.gcf().set_size_inches(15, 8))\n",
    "plt.xlabel('Sample size')\n",
    "plt.ylabel('Mean difference')\n",
    "plt.show()"
   ]
  },
  {
   "cell_type": "markdown",
   "metadata": {},
   "source": [
    "### 5.5 Repeat the process with a larger sample set"
   ]
  },
  {
   "cell_type": "code",
   "execution_count": 75,
   "metadata": {},
   "outputs": [
    {
     "data": {
      "text/plain": [
       "-12.504083233676283"
      ]
     },
     "execution_count": 75,
     "metadata": {},
     "output_type": "execute_result"
    }
   ],
   "source": [
    "# 22 - repeat 18 to 21 by replacing 50 with a larger number. For example, 300, or even 1000.\n",
    "# and see how the plot looks.\n",
    "\n",
    "difference(1000,df)"
   ]
  },
  {
   "cell_type": "code",
   "execution_count": 76,
   "metadata": {},
   "outputs": [],
   "source": [
    "sample_size=list(range(51))"
   ]
  },
  {
   "cell_type": "code",
   "execution_count": 77,
   "metadata": {},
   "outputs": [],
   "source": [
    "means_diff=[]\n",
    "\n",
    "for elem in sample_size:\n",
    "    df_elem=df.sample(elem)\n",
    "    mean_elem=df_elem['TUITIONFEE_IN'].mean()\n",
    "    difference=mean_elem-df_mean\n",
    "    means_diff.append(difference)"
   ]
  },
  {
   "cell_type": "code",
   "execution_count": 78,
   "metadata": {},
   "outputs": [
    {
     "data": {
      "image/png": "[encoded data removed]",
      "text/plain": [
       "<Figure size 1080x576 with 1 Axes>"
      ]
     },
     "metadata": {
      "needs_background": "light"
     },
     "output_type": "display_data"
    }
   ],
   "source": [
    "plt.scatter(sample_size,means_diff,plt.gcf().set_size_inches(15, 8))\n",
    "plt.xlabel('Sample size')\n",
    "plt.ylabel('Mean difference')\n",
    "plt.show()"
   ]
  },
  {
   "cell_type": "code",
   "execution_count": null,
   "metadata": {},
   "outputs": [],
   "source": [
    "# The end - Give yourself a pat on the back!"
   ]
  }
 ],
 "metadata": {
  "kernelspec": {
   "display_name": "Python 3",
   "language": "python",
   "name": "python3"
  },
  "language_info": {
   "codemirror_mode": {
    "name": "ipython",
    "version": 3
   },
   "file_extension": ".py",
   "mimetype": "text/x-python",
   "name": "python",
   "nbconvert_exporter": "python",
   "pygments_lexer": "ipython3",
   "version": "3.8.3"
  }
 },
 "nbformat": 4,
 "nbformat_minor": 4
}
