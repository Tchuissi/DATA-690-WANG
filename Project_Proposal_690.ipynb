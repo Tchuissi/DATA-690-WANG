{
  "nbformat": 4,
  "nbformat_minor": 0,
  "metadata": {
    "colab": {
      "name": "Project_Proposal_690.ipynb",
      "provenance": [],
      "authorship_tag": "ABX9TyOElPXO1FuK0BIFljHXQ/v4",
      "include_colab_link": true
    },
    "kernelspec": {
      "name": "python3",
      "display_name": "Python 3"
    }
  },
  "cells": [
    {
      "cell_type": "markdown",
      "metadata": {
        "id": "view-in-github",
        "colab_type": "text"
      },
      "source": [
        "<a href=\"https://colab.research.google.com/github/Tchuissi/DATA-690-WANG/blob/master/Project_Proposal_690.ipynb\" target=\"_parent\"><img src=\"https://colab.research.google.com/assets/colab-badge.svg\" alt=\"Open In Colab\"/></a>"
      ]
    },
    {
      "cell_type": "markdown",
      "metadata": {
        "id": "QqGuJ-dtJcX3"
      },
      "source": [
        "Deliverable #1 - Project Proposal in Markdown format\n",
        "\n",
        "Write and submit a research proposal in the Markdown format that answers the following questions:\n",
        "\n",
        "    What is your issue of interest (provide sufficient background information)?\n",
        "    Why is this issue important to you and/or to others?\n",
        "    What questions do you have in mind and wouyld like to answer?\n",
        "    Where do you get the data to help answer your questions?\n",
        "    What will be your unit of analysis (for example, patient, organization, or country)? Roughly how many units do you expect to analyze?\n",
        "    What variables/measures do you plan to use in your analysis?\n",
        "    What kinds of techniques do you you plan to use (for example, summary statistics, scatter plot, bar chart, chi-squared test)?\n"
      ]
    },
    {
      "cell_type": "code",
      "metadata": {
        "id": "sHvCvQttJZyp"
      },
      "source": [
        ""
      ],
      "execution_count": null,
      "outputs": []
    },
    {
      "cell_type": "markdown",
      "metadata": {
        "id": "zWVZ26qvJYZT"
      },
      "source": [
        ""
      ]
    }
  ]
}