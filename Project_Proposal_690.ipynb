{
  "nbformat": 4,
  "nbformat_minor": 0,
  "metadata": {
    "colab": {
      "name": "Project_Proposal_690.ipynb",
      "provenance": [],
      "collapsed_sections": [],
      "authorship_tag": "ABX9TyM0hF9N5rbaedVwI5GiFhPN",
      "include_colab_link": true
    },
    "kernelspec": {
      "name": "python3",
      "display_name": "Python 3"
    }
  },
  "cells": [
    {
      "cell_type": "markdown",
      "metadata": {
        "id": "view-in-github",
        "colab_type": "text"
      },
      "source": [
        "<a href=\"https://colab.research.google.com/github/Tchuissi/DATA-690-WANG/blob/master/Project_Proposal_690.ipynb\" target=\"_parent\"><img src=\"https://colab.research.google.com/assets/colab-badge.svg\" alt=\"Open In Colab\"/></a>"
      ]
    },
    {
      "cell_type": "markdown",
      "metadata": {
        "id": "QqGuJ-dtJcX3"
      },
      "source": [
        "Deliverable #1 - Project Proposal in Markdown format\n",
        "\n",
        "Write and submit a research proposal in the Markdown format that answers the following questions:\n",
        "\n",
        "    What is your issue of interest (provide sufficient background information)?\n",
        "    Why is this issue important to you and/or to others?\n",
        "    What questions do you have in mind and wouyld like to answer?\n",
        "    Where do you get the data to help answer your questions?\n",
        "    What will be your unit of analysis (for example, patient, organization, or country)? Roughly how many units do you expect to analyze?\n",
        "    What variables/measures do you plan to use in your analysis?\n",
        "    What kinds of techniques do you you plan to use (for example, summary statistics, scatter plot, bar chart, chi-squared test)?\n"
      ]
    },
    {
      "cell_type": "markdown",
      "metadata": {
        "id": "-ASqs_zMJ7hv"
      },
      "source": [
        "#**Projet 1 proposal: The influence of American culture in France through movies**\n",
        "\n",
        "I really am interested about movies and entertainment. Therefore, my project 1 will be to analyze the movies that generated more than 1 million cinema admissions in France from 2003 to 2019.\n",
        "\n",
        "I discovered the data file on the web site https://www.data.gouv.fr/fr/datasets/films-ayant-realise-plus-dun-million-dentrees/ The file is free to download, legal to access and there is no documented EDA for this data.\n",
        "\n",
        "There are 5 columns (Ranking, Name of the movie, Country, Date of release, Numbers of cinema admissions) and 838 rows. The size of the file is 0,088 Megabytes.\n",
        "\n",
        "I will clean the data, visualize them, and tell a story about it, using EDA methods by displaying the following graphs:\n",
        "\n",
        "-  A pie plot displaying the percentage of countries represented over the past 17 years.\n",
        "-  A bar plot displaying the top 30 films over 17 years\n",
        "- A pie plot displaying the percentage of the country of the 30 films\n",
        "- A bar plot displaying the movies that had more than 3 millions of admissions\n",
        "- A pie plot displaying the percentage of those countries\n",
        "- The three release months that appeared the most."
      ]
    }
  ]
}