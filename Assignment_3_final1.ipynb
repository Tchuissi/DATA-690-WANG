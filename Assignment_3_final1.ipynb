{
  "nbformat": 4,
  "nbformat_minor": 0,
  "metadata": {
    "colab": {
      "name": "Assignment 3-final.ipynb",
      "provenance": [],
      "authorship_tag": "ABX9TyO7ELjpA5oZZH+LsBqckMLH",
      "include_colab_link": true
    },
    "kernelspec": {
      "name": "python3",
      "display_name": "Python 3"
    }
  },
  "cells": [
    {
      "cell_type": "markdown",
      "metadata": {
        "id": "view-in-github",
        "colab_type": "text"
      },
      "source": [
        "<a href=\"https://colab.research.google.com/github/Tchuissi/DATA-690-WANG/blob/master/Assignment_3_final1.ipynb\" target=\"_parent\"><img src=\"https://colab.research.google.com/assets/colab-badge.svg\" alt=\"Open In Colab\"/></a>"
      ]
    },
    {
      "cell_type": "markdown",
      "metadata": {
        "id": "lQXtUEbBUFxK",
        "colab_type": "text"
      },
      "source": [
        "#**Question 1**"
      ]
    },
    {
      "cell_type": "markdown",
      "metadata": {
        "id": "C-JQCYjMUEts",
        "colab_type": "text"
      },
      "source": [
        ""
      ]
    },
    {
      "cell_type": "code",
      "metadata": {
        "id": "963LwP-DC-yp",
        "colab_type": "code",
        "colab": {
          "base_uri": "https://localhost:8080/",
          "height": 54
        },
        "outputId": "f31a962a-8e70-476b-834a-ec0d984e9bf7"
      },
      "source": [
        "import random\n",
        "# Trial with one row\n",
        "\n",
        "l1=[]                                # Creation of an empty list\n",
        "for i in range(10):                  # We want 10 integeres\n",
        " l1.append(random.randint(0,9))      # randomly selected from 0 to 9 added to the list\n",
        "\n",
        "print(l1, type(l1))                  # we have a list\n",
        "\n",
        "                                     # we want to have numbers without brackets and commas\n",
        "\n",
        "m1= \"\"                               # as \"print\" gives number in a separate line, we create an empty space to print them all in one line\n",
        "for i in l1:\n",
        "  m1= m1+ \" \" + str(i)               # incrementation of strings: it's like count=0 for numbers. We also want to convert i into a string\n",
        "print(m1, type(m1))                  # We have a string of numbers without\n"
      ],
      "execution_count": 11,
      "outputs": [
        {
          "output_type": "stream",
          "text": [
            "[4, 5, 1, 0, 1, 6, 6, 2, 8, 4] <class 'list'>\n",
            " 4 5 1 0 1 6 6 2 8 4 <class 'str'>\n"
          ],
          "name": "stdout"
        }
      ]
    },
    {
      "cell_type": "code",
      "metadata": {
        "id": "p3I8Pl6pVtPE",
        "colab_type": "code",
        "colab": {
          "base_uri": "https://localhost:8080/",
          "height": 219
        },
        "outputId": "d0dd7dda-0582-4449-8171-5572df644019"
      },
      "source": [
        "# Loop for 10 rows\n",
        " \n",
        "L10=[]                               # Creation of an empty list\n",
        "for i in range(10):                  # Creastion of the 1st loop\n",
        "  l1=[]                              # Creation of the 2nd loop to have 10 lists inside the main list\n",
        "  for j in range(10):                # We add the same code as above\n",
        "    l1.append(random.randint(0,9))\n",
        "  L10.append(l1)                     # We add the 10 lists into the main list L10   \n",
        "\n",
        "\n",
        "m10=\"\"\n",
        "\n",
        "for i in L10:                        # Creation of the 1st loop\n",
        "  for j in i:                        # Creation of the 2nd loop\n",
        "    m10= m10+ \" \"+ str(j)           \n",
        "  m10= m10+ \"\\n\"                     # Creation of another line every 10 numbers\n",
        "\n",
        "print(m10)"
      ],
      "execution_count": 13,
      "outputs": [
        {
          "output_type": "stream",
          "text": [
            " 5 0 1 5 4 7 6 8 1 1\n",
            " 5 3 1 3 9 1 5 1 6 0\n",
            " 1 5 6 8 2 3 2 8 5 7\n",
            " 0 5 5 3 9 0 6 3 6 8\n",
            " 7 0 4 7 4 9 7 1 3 9\n",
            " 0 8 1 5 5 2 5 0 8 2\n",
            " 5 6 3 4 9 4 7 9 8 8\n",
            " 2 0 7 9 5 3 3 4 8 3\n",
            " 9 8 6 7 3 2 7 8 4 4\n",
            " 5 9 0 2 1 8 6 4 8 7\n",
            "\n"
          ],
          "name": "stdout"
        }
      ]
    },
    {
      "cell_type": "markdown",
      "metadata": {
        "id": "LyECCf6lTsTG",
        "colab_type": "text"
      },
      "source": [
        "#**Question 3**#"
      ]
    },
    {
      "cell_type": "code",
      "metadata": {
        "id": "6vF9Rr6cTPK4",
        "colab_type": "code",
        "colab": {
          "base_uri": "https://localhost:8080/",
          "height": 35
        },
        "outputId": "3c546349-dcd3-403c-8d90-693716af6577"
      },
      "source": [
        "# Trial with one row\n",
        "\n",
        "l1=[]                                 # The code is the same as above only for the sum\n",
        "for i in range(10):\n",
        " l1.append(random.randint(0,9))\n",
        "\n",
        "sum=0                                 # We want the sum of a row\n",
        "for i in l1:                          # Creation of a loop to calculate the sum\n",
        "  sum = sum+ int(i)                     # i is a string so we need to change it into an integer\n",
        "\n",
        "y=l1.append('*')                      # We add a star at the end of the list\n",
        "y=l1.append(sum)                      # We add the sum at the end of the list\n",
        "\n",
        "m1= \"\"\n",
        "for i in l1:\n",
        "  m1= m1+ \" \" + str(i)\n",
        "print(m1)"
      ],
      "execution_count": 15,
      "outputs": [
        {
          "output_type": "stream",
          "text": [
            " 2 3 2 3 6 3 9 4 2 6 * 40\n"
          ],
          "name": "stdout"
        }
      ]
    },
    {
      "cell_type": "code",
      "metadata": {
        "id": "osPHz29SaRSV",
        "colab_type": "code",
        "colab": {
          "base_uri": "https://localhost:8080/",
          "height": 219
        },
        "outputId": "b058d3ec-c84d-4558-d4ff-0f8147e1747f"
      },
      "source": [
        "# Loop for 10 rows\n",
        "import random\n",
        "L10=[]                                # It is the same process as above\n",
        "for i in range (10):\n",
        "  l1=[]\n",
        "  for j in range(10):\n",
        "    l1.append(random.randint(0,9))\n",
        "  L10.append(l1)\n",
        "\n",
        "sum=0                                 # I have a problem here\n",
        "for i in L10:\n",
        "  for j in i:\n",
        "    sum = sum + int(j)\n",
        "\n",
        "  y=i.append('*')\n",
        "  y=i.append(sum)\n",
        "\n",
        "m10=\"\"\n",
        "for i in L10:\n",
        "  for j in i:\n",
        "    m10= m10+ \" \"+ str(j)\n",
        "  m10= m10 + \"\\n\"\n",
        "\n",
        "print(m10)"
      ],
      "execution_count": 18,
      "outputs": [
        {
          "output_type": "stream",
          "text": [
            " 5 3 8 6 9 1 0 5 7 7 * 51\n",
            " 2 6 0 5 5 1 6 0 6 6 * 88\n",
            " 4 3 8 6 4 5 4 2 7 3 * 134\n",
            " 9 1 5 8 4 5 5 2 7 3 * 183\n",
            " 3 0 9 8 1 4 0 1 2 1 * 212\n",
            " 1 3 8 7 2 0 3 6 2 9 * 253\n",
            " 1 1 5 3 8 6 7 1 9 6 * 300\n",
            " 3 0 9 9 6 7 6 7 4 4 * 355\n",
            " 1 7 8 0 4 5 0 5 6 0 * 391\n",
            " 5 8 7 7 9 9 7 9 1 1 * 454\n",
            "\n"
          ],
          "name": "stdout"
        }
      ]
    },
    {
      "cell_type": "code",
      "metadata": {
        "id": "o1-LRoYRf1ug",
        "colab_type": "code",
        "colab": {}
      },
      "source": [
        ""
      ],
      "execution_count": null,
      "outputs": []
    },
    {
      "cell_type": "markdown",
      "metadata": {
        "id": "jkYBDRZKf4NU",
        "colab_type": "text"
      },
      "source": [
        "#**Question 2**"
      ]
    },
    {
      "cell_type": "code",
      "metadata": {
        "id": "0L5G9Eijf8lV",
        "colab_type": "code",
        "colab": {
          "base_uri": "https://localhost:8080/",
          "height": 219
        },
        "outputId": "1fcd8eec-4d43-416e-93df-8cb3d12e3a73"
      },
      "source": [
        "# Trial for one row\n",
        "l1=[]                                # Creation of an empty list\n",
        "for i in range(10):                  # We want 10 integeres\n",
        " l1.append(random.randint(0,9))      # randomly selected from 0 to 9 added to the list\n",
        "print(l1)\n",
        "\n",
        "\n",
        "for i in l1:             \n",
        "  if i%2==1:                         # If loop to have @ if an odd number\n",
        "    print('@')\n",
        "  else:\n",
        "    print(i)\n",
        "\n",
        "\n"
      ],
      "execution_count": 42,
      "outputs": [
        {
          "output_type": "stream",
          "text": [
            "[3, 2, 7, 5, 8, 3, 6, 4, 3, 3]\n",
            "@\n",
            "2\n",
            "@\n",
            "@\n",
            "8\n",
            "@\n",
            "6\n",
            "4\n",
            "@\n",
            "@\n"
          ],
          "name": "stdout"
        }
      ]
    },
    {
      "cell_type": "code",
      "metadata": {
        "id": "MIS6c70BixwL",
        "colab_type": "code",
        "colab": {
          "base_uri": "https://localhost:8080/",
          "height": 1000
        },
        "outputId": "5aadd485-1b48-43cc-a000-4f7c613db5a2"
      },
      "source": [
        "# Loop for 10 rows\n",
        "\n",
        "import random\n",
        "L10=[]                                # It is the same process as above\n",
        "for i in range (10):\n",
        "  l1=[]\n",
        "  for j in range(10):\n",
        "    l1.append(random.randint(0,9))\n",
        "  L10.append(l1)\n",
        "\n",
        "for i in L10:\n",
        "  for j in i:\n",
        "    if j%2==1:\n",
        "      print('@')\n",
        "    else:\n",
        "     print(j)\n"
      ],
      "execution_count": 49,
      "outputs": [
        {
          "output_type": "stream",
          "text": [
            "@\n",
            "@\n",
            "@\n",
            "@\n",
            "2\n",
            "@\n",
            "@\n",
            "6\n",
            "@\n",
            "@\n",
            "@\n",
            "2\n",
            "8\n",
            "@\n",
            "2\n",
            "4\n",
            "@\n",
            "@\n",
            "@\n",
            "@\n",
            "4\n",
            "@\n",
            "4\n",
            "@\n",
            "@\n",
            "2\n",
            "@\n",
            "@\n",
            "4\n",
            "@\n",
            "@\n",
            "0\n",
            "8\n",
            "@\n",
            "@\n",
            "@\n",
            "@\n",
            "8\n",
            "4\n",
            "@\n",
            "0\n",
            "@\n",
            "4\n",
            "@\n",
            "8\n",
            "8\n",
            "2\n",
            "2\n",
            "8\n",
            "@\n",
            "@\n",
            "@\n",
            "@\n",
            "0\n",
            "@\n",
            "0\n",
            "@\n",
            "6\n",
            "0\n",
            "2\n",
            "@\n",
            "6\n",
            "6\n",
            "@\n",
            "@\n",
            "4\n",
            "@\n",
            "@\n",
            "@\n",
            "0\n",
            "@\n",
            "@\n",
            "2\n",
            "0\n",
            "@\n",
            "6\n",
            "@\n",
            "6\n",
            "2\n",
            "4\n",
            "@\n",
            "4\n",
            "@\n",
            "@\n",
            "@\n",
            "@\n",
            "0\n",
            "@\n",
            "6\n",
            "@\n",
            "@\n",
            "6\n",
            "0\n",
            "4\n",
            "4\n",
            "4\n",
            "6\n",
            "2\n",
            "2\n",
            "6\n"
          ],
          "name": "stdout"
        }
      ]
    },
    {
      "cell_type": "code",
      "metadata": {
        "id": "Rz5_vAbyH5nX",
        "colab_type": "code",
        "colab": {}
      },
      "source": [
        ""
      ],
      "execution_count": null,
      "outputs": []
    }
  ]
}