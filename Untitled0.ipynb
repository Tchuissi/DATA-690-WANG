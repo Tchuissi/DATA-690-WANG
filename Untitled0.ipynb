{
  "nbformat": 4,
  "nbformat_minor": 0,
  "metadata": {
    "colab": {
      "name": "Untitled0.ipynb",
      "provenance": [],
      "authorship_tag": "ABX9TyNajjokdKNfcdouFfYYdZH9",
      "include_colab_link": true
    },
    "kernelspec": {
      "name": "python3",
      "display_name": "Python 3"
    }
  },
  "cells": [
    {
      "cell_type": "markdown",
      "metadata": {
        "id": "view-in-github",
        "colab_type": "text"
      },
      "source": [
        "<a href=\"https://colab.research.google.com/github/Tchuissi/DATA-690-WANG/blob/master/Untitled0.ipynb\" target=\"_parent\"><img src=\"https://colab.research.google.com/assets/colab-badge.svg\" alt=\"Open In Colab\"/></a>"
      ]
    },
    {
      "cell_type": "code",
      "metadata": {
        "id": "qKkHHkuSYPLs",
        "colab_type": "code",
        "colab": {}
      },
      "source": [
        "# THIS IS A TEXT\n"
      ],
      "execution_count": null,
      "outputs": []
    },
    {
      "cell_type": "markdown",
      "metadata": {
        "id": "xr7AM3n4Y7pE",
        "colab_type": "text"
      },
      "source": [
        "# THIS IS A TEXT"
      ]
    },
    {
      "cell_type": "markdown",
      "metadata": {
        "id": "ZZfL2xxWY6si",
        "colab_type": "text"
      },
      "source": [
        ""
      ]
    }
  ]
}