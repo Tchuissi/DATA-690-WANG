{
  "nbformat": 4,
  "nbformat_minor": 0,
  "metadata": {
    "colab": {
      "name": "Assignment 3-final.ipynb",
      "provenance": [],
      "authorship_tag": "ABX9TyMpX0kIEQ32JJSppHJ7tQpb",
      "include_colab_link": true
    },
    "kernelspec": {
      "name": "python3",
      "display_name": "Python 3"
    }
  },
  "cells": [
    {
      "cell_type": "markdown",
      "metadata": {
        "id": "view-in-github",
        "colab_type": "text"
      },
      "source": [
        "<a href=\"https://colab.research.google.com/github/Tchuissi/DATA-690-WANG/blob/master/Assignment_3_final.ipynb\" target=\"_parent\"><img src=\"https://colab.research.google.com/assets/colab-badge.svg\" alt=\"Open In Colab\"/></a>"
      ]
    },
    {
      "cell_type": "markdown",
      "metadata": {
        "id": "lQXtUEbBUFxK",
        "colab_type": "text"
      },
      "source": [
        "#**Question 1**"
      ]
    },
    {
      "cell_type": "markdown",
      "metadata": {
        "id": "C-JQCYjMUEts",
        "colab_type": "text"
      },
      "source": [
        ""
      ]
    },
    {
      "cell_type": "code",
      "metadata": {
        "id": "963LwP-DC-yp",
        "colab_type": "code",
        "colab": {
          "base_uri": "https://localhost:8080/",
          "height": 54
        },
        "outputId": "f31a962a-8e70-476b-834a-ec0d984e9bf7"
      },
      "source": [
        "import random\n",
        "# Trial with one row\n",
        "\n",
        "l1=[]                                # Creation of an empty list\n",
        "for i in range(10):                  # We want 10 integeres\n",
        " l1.append(random.randint(0,9))      # randomly selected from 0 to 9 added to the list\n",
        "\n",
        "print(l1, type(l1))                  # we have a list\n",
        "\n",
        "                                     # we want to have numbers without brackets and commas\n",
        "\n",
        "m1= \"\"                               # as \"print\" gives number in a separate line, we create an empty space to print them all in one line\n",
        "for i in l1:\n",
        "  m1= m1+ \" \" + str(i)               # incrementation of strings: it's like count=0 for numbers. We also want to convert i into a string\n",
        "print(m1, type(m1))                  # We have a string of numbers without\n"
      ],
      "execution_count": 11,
      "outputs": [
        {
          "output_type": "stream",
          "text": [
            "[4, 5, 1, 0, 1, 6, 6, 2, 8, 4] <class 'list'>\n",
            " 4 5 1 0 1 6 6 2 8 4 <class 'str'>\n"
          ],
          "name": "stdout"
        }
      ]
    },
    {
      "cell_type": "code",
      "metadata": {
        "id": "p3I8Pl6pVtPE",
        "colab_type": "code",
        "colab": {}
      },
      "source": [
        "# Loop for 10 rows\n",
        " \n",
        "L10=[]                               # Creation of an empty list\n",
        "for i in range(10):\n",
        "  l1=[]                              # Creation of a loop to have 10 lists inside the main list\n",
        "  for j in range(10):                # We add the same code as above\n",
        "    l1.append(random.randint(0,9))\n",
        "  L10.append(l1)                     # We add the 10 lists into the main list L10   \n",
        "\n",
        "\n",
        "m10=\"\"\n",
        "\n",
        "for i in L10:\n",
        "  for j in l1:\n",
        "    "
      ],
      "execution_count": null,
      "outputs": []
    },
    {
      "cell_type": "markdown",
      "metadata": {
        "id": "LyECCf6lTsTG",
        "colab_type": "text"
      },
      "source": [
        "#**Question 3**#"
      ]
    },
    {
      "cell_type": "code",
      "metadata": {
        "id": "6vF9Rr6cTPK4",
        "colab_type": "code",
        "colab": {
          "base_uri": "https://localhost:8080/",
          "height": 35
        },
        "outputId": "fa96632c-8b71-4dbb-c227-7d000954e4bd"
      },
      "source": [
        "# LINE 1\n",
        "\n",
        "l1=[]\n",
        "for i in range(10):\n",
        " l1.append(random.randint(0,9))\n",
        "\n",
        "sum=0\n",
        "\n",
        "for i in l1:\n",
        "  sum=sum+ int(i)\n",
        "\n",
        "y=l1.append('*')\n",
        "y=l1.append(sum)\n",
        "m1= \"\"\n",
        "\n",
        "for i in l1:\n",
        "  m1= m1+ \" \" + str(i)\n",
        "print(m1)\n",
        "\n",
        "\n",
        "  \n",
        "\n",
        "\n"
      ],
      "execution_count": 3,
      "outputs": [
        {
          "output_type": "stream",
          "text": [
            " 7 5 7 5 4 9 7 5 7 2 * 58\n"
          ],
          "name": "stdout"
        }
      ]
    },
    {
      "cell_type": "code",
      "metadata": {
        "id": "Rz5_vAbyH5nX",
        "colab_type": "code",
        "colab": {}
      },
      "source": [
        ""
      ],
      "execution_count": null,
      "outputs": []
    },
    {
      "cell_type": "code",
      "metadata": {
        "id": "M66I0B8rZyJ0",
        "colab_type": "code",
        "colab": {
          "base_uri": "https://localhost:8080/",
          "height": 35
        },
        "outputId": "e29b99f4-553f-4d45-f58f-32e2ee861848"
      },
      "source": [
        "import random\n",
        "# LINE 1\n",
        "\n",
        "l1=[]\n",
        "for i in range(10):\n",
        " l1.append(random.randint(0,9))\n",
        "\n",
        "m1= \"\"\n",
        "\n",
        "for i in l1:\n",
        "  m1= m1+ \" \" + str(i)\n",
        "print(m1)"
      ],
      "execution_count": 127,
      "outputs": [
        {
          "output_type": "stream",
          "text": [
            " 0 8 5 4 8 8 5 9 9 5\n"
          ],
          "name": "stdout"
        }
      ]
    },
    {
      "cell_type": "code",
      "metadata": {
        "id": "1ibKUKRwaUxi",
        "colab_type": "code",
        "colab": {
          "base_uri": "https://localhost:8080/",
          "height": 257
        },
        "outputId": "1a9a1bb8-ce45-4255-a4a9-8051020e02a4"
      },
      "source": [
        "x=[]\n",
        "for i in range(10):\n",
        "    y=[]\n",
        "    for j in range(10):\n",
        "        y.append(random.randint(0,9))\n",
        "    x.append(y)\n",
        "\n",
        "print(x) \n",
        "space = \"\"\n",
        "for i in x:\n",
        "    for j in i:\n",
        "        space = space + \" \" + str(j)\n",
        "    \n",
        "    space =  space + \"\\n\"\n",
        "    \n",
        "   \n",
        "print(space)"
      ],
      "execution_count": 7,
      "outputs": [
        {
          "output_type": "stream",
          "text": [
            "[[8, 5, 6, 3, 7, 4, 2, 1, 3, 8], [2, 5, 1, 1, 2, 1, 2, 5, 1, 2], [0, 7, 1, 5, 8, 3, 0, 6, 8, 9], [0, 7, 9, 5, 1, 2, 0, 3, 5, 2], [3, 7, 0, 5, 4, 9, 1, 1, 1, 3], [6, 0, 6, 3, 6, 6, 3, 9, 4, 2], [2, 0, 9, 1, 3, 2, 7, 3, 5, 1], [5, 9, 1, 5, 2, 0, 1, 0, 8, 9], [7, 6, 8, 0, 0, 0, 8, 5, 5, 6], [8, 5, 2, 5, 4, 5, 2, 1, 2, 1]]\n",
            " 8 5 6 3 7 4 2 1 3 8\n",
            " 2 5 1 1 2 1 2 5 1 2\n",
            " 0 7 1 5 8 3 0 6 8 9\n",
            " 0 7 9 5 1 2 0 3 5 2\n",
            " 3 7 0 5 4 9 1 1 1 3\n",
            " 6 0 6 3 6 6 3 9 4 2\n",
            " 2 0 9 1 3 2 7 3 5 1\n",
            " 5 9 1 5 2 0 1 0 8 9\n",
            " 7 6 8 0 0 0 8 5 5 6\n",
            " 8 5 2 5 4 5 2 1 2 1\n",
            "\n"
          ],
          "name": "stdout"
        }
      ]
    },
    {
      "cell_type": "code",
      "metadata": {
        "id": "km82ImlSS2i1",
        "colab_type": "code",
        "colab": {}
      },
      "source": [
        "space =  space + \"\\n\" #aligné à for"
      ],
      "execution_count": null,
      "outputs": []
    },
    {
      "cell_type": "code",
      "metadata": {
        "id": "4_Pj0KXpb_zb",
        "colab_type": "code",
        "colab": {
          "base_uri": "https://localhost:8080/",
          "height": 219
        },
        "outputId": "a84b08e9-5ac7-43b2-b05c-1e142af57c2c"
      },
      "source": [
        "print(space)"
      ],
      "execution_count": 137,
      "outputs": [
        {
          "output_type": "stream",
          "text": [
            " 2 9 3 4 9 5 7 5 1 0\n",
            " 1 6 5 1 7 4 6 8 2 9\n",
            " 3 7 1 9 4 2 9 8 3 2\n",
            " 6 9 5 8 6 4 8 2 3 8\n",
            " 4 7 7 9 0 5 5 7 2 6\n",
            " 2 7 2 0 0 4 1 5 1 7\n",
            " 5 6 9 1 1 1 3 5 7 4\n",
            " 7 0 9 4 2 1 4 9 1 3\n",
            " 9 2 8 5 3 7 9 6 4 4\n",
            " 3 3 4 8 1 1 6 1 2 4\n",
            "\n"
          ],
          "name": "stdout"
        }
      ]
    }
  ]
}