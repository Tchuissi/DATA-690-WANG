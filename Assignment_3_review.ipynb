{
  "nbformat": 4,
  "nbformat_minor": 0,
  "metadata": {
    "colab": {
      "name": "Assignment 3 review.ipynb",
      "provenance": [],
      "authorship_tag": "ABX9TyOv57vRHEZ2lbHmrTfJ2rAQ",
      "include_colab_link": true
    },
    "kernelspec": {
      "name": "python3",
      "display_name": "Python 3"
    }
  },
  "cells": [
    {
      "cell_type": "markdown",
      "metadata": {
        "id": "view-in-github",
        "colab_type": "text"
      },
      "source": [
        "<a href=\"https://colab.research.google.com/github/Tchuissi/DATA-690-WANG/blob/master/Assignment_3_review.ipynb\" target=\"_parent\"><img src=\"https://colab.research.google.com/assets/colab-badge.svg\" alt=\"Open In Colab\"/></a>"
      ]
    },
    {
      "cell_type": "markdown",
      "metadata": {
        "id": "b5J58tGwAq0p",
        "colab_type": "text"
      },
      "source": [
        "#**Question 1**"
      ]
    },
    {
      "cell_type": "code",
      "metadata": {
        "id": "O9GZiYiyjypZ",
        "colab_type": "code",
        "colab": {
          "base_uri": "https://localhost:8080/",
          "height": 403
        },
        "outputId": "1d8f1178-ad6c-4819-c2cc-03ceee81bef1"
      },
      "source": [
        "import random\n",
        "count=-1                      # count= - 1 to start counting at 0 and get 10 numbers. If count=0, the first kine would have 9 numbers\n",
        "for i in range(10):                       \n",
        "    for j in range(10):       # we create two for loop of 10 to get 100 numbers. We can also use range(100) instead\n",
        "      count= count+1\n",
        "      if count%10==0:         # we create a \"if\" loop to have a new line every 10 numbers\n",
        "        print(\"\\n\")\n",
        "      print(random.randint(0,9),end=\" \")  # we choose numbers randomly selected from 0 to 9 displayed in the same line\n",
        "      \n",
        " "
      ],
      "execution_count": 58,
      "outputs": [
        {
          "output_type": "stream",
          "text": [
            "\n",
            "\n",
            "9 7 4 0 9 6 9 6 6 5 \n",
            "\n",
            "9 6 0 3 4 6 8 1 9 8 \n",
            "\n",
            "7 6 3 8 7 8 1 1 9 8 \n",
            "\n",
            "2 8 5 8 1 4 8 2 2 8 \n",
            "\n",
            "8 1 1 0 0 1 0 5 4 7 \n",
            "\n",
            "9 2 6 8 0 2 6 0 6 0 \n",
            "\n",
            "2 2 4 9 9 3 7 8 7 9 \n",
            "\n",
            "4 6 3 7 9 9 7 7 1 3 \n",
            "\n",
            "7 7 3 1 5 3 9 6 4 6 \n",
            "\n",
            "2 4 0 1 9 4 4 8 3 9 "
          ],
          "name": "stdout"
        }
      ]
    },
    {
      "cell_type": "code",
      "metadata": {
        "id": "SCH1Q_ErAuWv",
        "colab_type": "code",
        "colab": {}
      },
      "source": [
        ""
      ],
      "execution_count": null,
      "outputs": []
    },
    {
      "cell_type": "markdown",
      "metadata": {
        "id": "ic8MLFH5AxRD",
        "colab_type": "text"
      },
      "source": [
        "#**Question 2**"
      ]
    },
    {
      "cell_type": "code",
      "metadata": {
        "id": "cCN2ux8BnxH_",
        "colab_type": "code",
        "colab": {
          "base_uri": "https://localhost:8080/",
          "height": 403
        },
        "outputId": "54574ead-a900-4751-dfec-4d4e77df9d0b"
      },
      "source": [
        "import random\n",
        "count=-1      #\n",
        "for i in range(100):\n",
        "      count= count+1\n",
        "      if count%10==0:\n",
        "        print(\"\\n\")\n",
        "      number=random.randint(0,9)\n",
        "      if number %2 ==1:                # if condition to change odd numbers into @\n",
        "        print('@', end=\" \")\n",
        "      else:\n",
        "        print(number, end=\" \")\n",
        "    "
      ],
      "execution_count": 27,
      "outputs": [
        {
          "output_type": "stream",
          "text": [
            "\n",
            "\n",
            "4 @ @ 6 @ @ @ 6 0 @ \n",
            "\n",
            "8 4 @ 8 @ 0 6 0 @ @ \n",
            "\n",
            "0 @ 8 2 @ 6 @ 4 4 @ \n",
            "\n",
            "@ @ 6 @ 2 6 @ 6 8 @ \n",
            "\n",
            "0 8 6 @ @ @ @ 8 2 @ \n",
            "\n",
            "8 @ @ 0 @ 4 @ @ @ 2 \n",
            "\n",
            "@ @ 8 @ 6 8 6 @ 2 8 \n",
            "\n",
            "0 2 @ @ 0 @ @ 8 @ 0 \n",
            "\n",
            "2 6 @ 8 @ @ 6 0 4 8 \n",
            "\n",
            "@ @ 0 2 @ 4 @ 8 2 @ "
          ],
          "name": "stdout"
        }
      ]
    },
    {
      "cell_type": "markdown",
      "metadata": {
        "id": "Rc_3jMqTA31h",
        "colab_type": "text"
      },
      "source": [
        "#**Question 3**"
      ]
    },
    {
      "cell_type": "code",
      "metadata": {
        "id": "KA2erSW6rT7a",
        "colab_type": "code",
        "colab": {
          "base_uri": "https://localhost:8080/",
          "height": 568
        },
        "outputId": "5c9bf339-c06b-4a18-de58-2edf0f79fb28"
      },
      "source": [
        "import random\n",
        "count=0\n",
        "sum=0    \n",
        "for i in range(100):\n",
        "      count= count+1\n",
        "      \n",
        "      number=random.randint(0,9)\n",
        "      print(number, end=\" \")\n",
        "      sum=sum+number\n",
        "      if count%10==0:\n",
        "        print(\"* \"+str(sum))                # we add the * and the sum of the row every 10 numbers\n",
        "        sum=0\n",
        "      if count%10==0:\n",
        "        print(\"\\n\")"
      ],
      "execution_count": 42,
      "outputs": [
        {
          "output_type": "stream",
          "text": [
            "0 1 1 4 5 7 5 6 3 1 * 33\n",
            "\n",
            "\n",
            "7 2 0 6 4 7 3 8 7 5 * 49\n",
            "\n",
            "\n",
            "2 5 4 4 6 8 0 8 1 8 * 46\n",
            "\n",
            "\n",
            "7 0 4 9 6 3 8 3 8 3 * 51\n",
            "\n",
            "\n",
            "6 0 8 4 2 0 0 1 4 7 * 32\n",
            "\n",
            "\n",
            "2 0 6 0 3 8 0 2 2 7 * 30\n",
            "\n",
            "\n",
            "3 5 5 1 6 7 4 8 9 3 * 51\n",
            "\n",
            "\n",
            "7 3 5 5 1 3 4 0 2 3 * 33\n",
            "\n",
            "\n",
            "2 3 6 1 8 0 4 2 9 4 * 39\n",
            "\n",
            "\n",
            "6 2 2 0 3 2 9 6 1 7 * 38\n",
            "\n",
            "\n"
          ],
          "name": "stdout"
        }
      ]
    },
    {
      "cell_type": "code",
      "metadata": {
        "id": "2VrfDetvzHbw",
        "colab_type": "code",
        "colab": {}
      },
      "source": [
        ""
      ],
      "execution_count": null,
      "outputs": []
    }
  ]
}