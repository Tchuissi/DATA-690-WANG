{
  "nbformat": 4,
  "nbformat_minor": 0,
  "metadata": {
    "colab": {
      "name": "Assignment 3 review.ipynb",
      "provenance": [],
      "authorship_tag": "ABX9TyP0GRHXvwWv8mkvsbmIPy2A",
      "include_colab_link": true
    },
    "kernelspec": {
      "name": "python3",
      "display_name": "Python 3"
    }
  },
  "cells": [
    {
      "cell_type": "markdown",
      "metadata": {
        "id": "view-in-github",
        "colab_type": "text"
      },
      "source": [
        "<a href=\"https://colab.research.google.com/github/Tchuissi/DATA-690-WANG/blob/master/Assignment_3_review.ipynb\" target=\"_parent\"><img src=\"https://colab.research.google.com/assets/colab-badge.svg\" alt=\"Open In Colab\"/></a>"
      ]
    },
    {
      "cell_type": "code",
      "metadata": {
        "id": "O9GZiYiyjypZ",
        "colab_type": "code",
        "colab": {
          "base_uri": "https://localhost:8080/",
          "height": 403
        },
        "outputId": "494a1355-d93b-414a-8557-d311edb1baa0"
      },
      "source": [
        "import random\n",
        "count=-1      #\n",
        "for i in range(10):\n",
        "    for j in range(10):\n",
        "      count= count+1\n",
        "      if count%10==0:\n",
        "        print(\"\\n\")\n",
        "      print(random.randint(0,9),end=\" \")\n",
        "      \n",
        " "
      ],
      "execution_count": 14,
      "outputs": [
        {
          "output_type": "stream",
          "text": [
            "\n",
            "\n",
            "1 9 9 2 6 9 9 8 7 9 \n",
            "\n",
            "6 3 0 6 2 3 3 0 9 5 \n",
            "\n",
            "0 0 7 0 7 5 1 4 1 5 \n",
            "\n",
            "2 1 6 1 1 8 0 2 8 9 \n",
            "\n",
            "3 1 2 7 9 0 9 1 2 0 \n",
            "\n",
            "0 5 1 4 0 1 3 8 7 8 \n",
            "\n",
            "7 6 0 7 2 3 7 0 7 7 \n",
            "\n",
            "9 7 5 6 1 7 9 7 3 4 \n",
            "\n",
            "1 6 5 1 6 7 7 0 8 2 \n",
            "\n",
            "9 7 7 1 8 7 1 4 2 4 "
          ],
          "name": "stdout"
        }
      ]
    },
    {
      "cell_type": "code",
      "metadata": {
        "id": "cCN2ux8BnxH_",
        "colab_type": "code",
        "colab": {
          "base_uri": "https://localhost:8080/",
          "height": 403
        },
        "outputId": "54574ead-a900-4751-dfec-4d4e77df9d0b"
      },
      "source": [
        "import random\n",
        "count=-1      #\n",
        "for i in range(100):\n",
        "      count= count+1\n",
        "      if count%10==0:\n",
        "        print(\"\\n\")\n",
        "      number=random.randint(0,9)\n",
        "      if number %2 ==1:\n",
        "        print('@', end=\" \")\n",
        "      else:\n",
        "        print(number, end=\" \")\n",
        "    "
      ],
      "execution_count": 27,
      "outputs": [
        {
          "output_type": "stream",
          "text": [
            "\n",
            "\n",
            "4 @ @ 6 @ @ @ 6 0 @ \n",
            "\n",
            "8 4 @ 8 @ 0 6 0 @ @ \n",
            "\n",
            "0 @ 8 2 @ 6 @ 4 4 @ \n",
            "\n",
            "@ @ 6 @ 2 6 @ 6 8 @ \n",
            "\n",
            "0 8 6 @ @ @ @ 8 2 @ \n",
            "\n",
            "8 @ @ 0 @ 4 @ @ @ 2 \n",
            "\n",
            "@ @ 8 @ 6 8 6 @ 2 8 \n",
            "\n",
            "0 2 @ @ 0 @ @ 8 @ 0 \n",
            "\n",
            "2 6 @ 8 @ @ 6 0 4 8 \n",
            "\n",
            "@ @ 0 2 @ 4 @ 8 2 @ "
          ],
          "name": "stdout"
        }
      ]
    },
    {
      "cell_type": "code",
      "metadata": {
        "id": "KA2erSW6rT7a",
        "colab_type": "code",
        "colab": {
          "base_uri": "https://localhost:8080/",
          "height": 568
        },
        "outputId": "5c9bf339-c06b-4a18-de58-2edf0f79fb28"
      },
      "source": [
        "import random\n",
        "count=0\n",
        "sum=0    \n",
        "for i in range(100):\n",
        "      count= count+1\n",
        "      \n",
        "      number=random.randint(0,9)\n",
        "      print(number, end=\" \")\n",
        "      sum=sum+number\n",
        "      if count%10==0:\n",
        "        print(\"* \"+str(sum))\n",
        "        sum=0\n",
        "      if count%10==0:\n",
        "        print(\"\\n\")"
      ],
      "execution_count": 42,
      "outputs": [
        {
          "output_type": "stream",
          "text": [
            "0 1 1 4 5 7 5 6 3 1 * 33\n",
            "\n",
            "\n",
            "7 2 0 6 4 7 3 8 7 5 * 49\n",
            "\n",
            "\n",
            "2 5 4 4 6 8 0 8 1 8 * 46\n",
            "\n",
            "\n",
            "7 0 4 9 6 3 8 3 8 3 * 51\n",
            "\n",
            "\n",
            "6 0 8 4 2 0 0 1 4 7 * 32\n",
            "\n",
            "\n",
            "2 0 6 0 3 8 0 2 2 7 * 30\n",
            "\n",
            "\n",
            "3 5 5 1 6 7 4 8 9 3 * 51\n",
            "\n",
            "\n",
            "7 3 5 5 1 3 4 0 2 3 * 33\n",
            "\n",
            "\n",
            "2 3 6 1 8 0 4 2 9 4 * 39\n",
            "\n",
            "\n",
            "6 2 2 0 3 2 9 6 1 7 * 38\n",
            "\n",
            "\n"
          ],
          "name": "stdout"
        }
      ]
    },
    {
      "cell_type": "code",
      "metadata": {
        "id": "2VrfDetvzHbw",
        "colab_type": "code",
        "colab": {}
      },
      "source": [
        ""
      ],
      "execution_count": null,
      "outputs": []
    },
    {
      "cell_type": "code",
      "metadata": {
        "id": "SHRzKESn02RO",
        "colab_type": "code",
        "colab": {
          "base_uri": "https://localhost:8080/",
          "height": 439
        },
        "outputId": "79a2e7de-8e8d-4e11-d77a-60052f0bcb4d"
      },
      "source": [
        "\n",
        "\n",
        "import random\n",
        "count=0\n",
        "print(\"*******************\")     #\n",
        "for i in range(100):\n",
        "    \n",
        "      count= count+1\n",
        "      if count%10==0:  \n",
        "        print(\"*\\n\")\n",
        "      print(random.randint(0,9),end=\" \")\n",
        "\n",
        "print(\"\\n*******************\") "
      ],
      "execution_count": 55,
      "outputs": [
        {
          "output_type": "stream",
          "text": [
            "*******************\n",
            "1 9 9 0 6 8 3 5 6 *\n",
            "\n",
            "6 3 1 4 7 6 4 5 7 5 *\n",
            "\n",
            "9 9 9 9 9 6 8 2 5 8 *\n",
            "\n",
            "4 4 0 0 6 2 4 1 6 3 *\n",
            "\n",
            "0 2 0 9 4 9 1 0 7 5 *\n",
            "\n",
            "5 5 8 2 3 9 5 4 1 1 *\n",
            "\n",
            "4 7 9 3 9 2 7 1 6 9 *\n",
            "\n",
            "9 1 9 2 2 2 3 0 5 2 *\n",
            "\n",
            "6 8 1 6 6 3 3 9 2 3 *\n",
            "\n",
            "6 0 9 2 3 7 5 0 3 9 *\n",
            "\n",
            "3 \n",
            "*******************\n"
          ],
          "name": "stdout"
        }
      ]
    }
  ]
}