{
  "nbformat": 4,
  "nbformat_minor": 0,
  "metadata": {
    "colab": {
      "name": "Session03-Practice.ipynb",
      "provenance": [],
      "authorship_tag": "ABX9TyOlLYzJnOlxX0/v45BK2S6A",
      "include_colab_link": true
    },
    "kernelspec": {
      "name": "python3",
      "display_name": "Python 3"
    }
  },
  "cells": [
    {
      "cell_type": "markdown",
      "metadata": {
        "id": "view-in-github",
        "colab_type": "text"
      },
      "source": [
        "<a href=\"https://colab.research.google.com/github/Tchuissi/DATA-690-WANG/blob/master/Session03_Practice.ipynb\" target=\"_parent\"><img src=\"https://colab.research.google.com/assets/colab-badge.svg\" alt=\"Open In Colab\"/></a>"
      ]
    },
    {
      "cell_type": "code",
      "metadata": {
        "id": "YKcHVnjBWNH6",
        "colab_type": "code",
        "colab": {
          "base_uri": "https://localhost:8080/",
          "height": 74
        },
        "outputId": "e78631b3-2db4-4aed-da72-6c0a1b7d477c"
      },
      "source": [
        "people_list=\"Wang, Chaojie; Seelam, Arjun Reddy; Rius, Jonathan; Liang, Jinqing; Chowdhury, Debanjan; Maszkiewicz, Lori; Negussie, Neftalem; Steinruck, Michaella; Phogat, Shreshta; Fatima, Misha; Hirabayashi, Scott; Soroush, Masoud; Bolz, Jessica; Mbu Nyamsi, Tchuissi; Dokuzoglu, Yuksel; Gogineni, Shailesh; Pabbisetty, Sai Vinay; Preis, Liam; Jyesta, Vishnu Priya; Narne, Yoshita; Boban, Shruthi; Oberoi, Ashreen Kaur; Cohens, Nashika; Noppinger, Ken; Kakani, Goutham; Hayo, Alyssa\"\n",
        "print(people_list)\n",
        "print(type(people_list))\n"
      ],
      "execution_count": 3,
      "outputs": [
        {
          "output_type": "stream",
          "text": [
            "Wang, Chaojie; Seelam, Arjun Reddy; Rius, Jonathan; Liang, Jinqing; Chowdhury, Debanjan; Maszkiewicz, Lori; Negussie, Neftalem; Steinruck, Michaella; Phogat, Shreshta; Fatima, Misha; Hirabayashi, Scott; Soroush, Masoud; Bolz, Jessica; Mbu Nyamsi, Tchuissi; Dokuzoglu, Yuksel; Gogineni, Shailesh; Pabbisetty, Sai Vinay; Preis, Liam; Jyesta, Vishnu Priya; Narne, Yoshita; Boban, Shruthi; Oberoi, Ashreen Kaur; Cohens, Nashika; Noppinger, Ken; Kakani, Goutham; Hayo, Alyssa\n",
            "<class 'str'>\n"
          ],
          "name": "stdout"
        }
      ]
    },
    {
      "cell_type": "code",
      "metadata": {
        "id": "7jit0qeAbADV",
        "colab_type": "code",
        "colab": {
          "base_uri": "https://localhost:8080/",
          "height": 55
        },
        "outputId": "4661e83d-979c-491a-d041-c879049950c3"
      },
      "source": [
        "y=people_list.split()\n",
        "print(y)"
      ],
      "execution_count": 8,
      "outputs": [
        {
          "output_type": "stream",
          "text": [
            "['Wang,', 'Chaojie;', 'Seelam,', 'Arjun', 'Reddy;', 'Rius,', 'Jonathan;', 'Liang,', 'Jinqing;', 'Chowdhury,', 'Debanjan;', 'Maszkiewicz,', 'Lori;', 'Negussie,', 'Neftalem;', 'Steinruck,', 'Michaella;', 'Phogat,', 'Shreshta;', 'Fatima,', 'Misha;', 'Hirabayashi,', 'Scott;', 'Soroush,', 'Masoud;', 'Bolz,', 'Jessica;', 'Mbu', 'Nyamsi,', 'Tchuissi;', 'Dokuzoglu,', 'Yuksel;', 'Gogineni,', 'Shailesh;', 'Pabbisetty,', 'Sai', 'Vinay;', 'Preis,', 'Liam;', 'Jyesta,', 'Vishnu', 'Priya;', 'Narne,', 'Yoshita;', 'Boban,', 'Shruthi;', 'Oberoi,', 'Ashreen', 'Kaur;', 'Cohens,', 'Nashika;', 'Noppinger,', 'Ken;', 'Kakani,', 'Goutham;', 'Hayo,', 'Alyssa']\n"
          ],
          "name": "stdout"
        }
      ]
    },
    {
      "cell_type": "code",
      "metadata": {
        "id": "JoChu_lFchaq",
        "colab_type": "code",
        "colab": {
          "base_uri": "https://localhost:8080/",
          "height": 55
        },
        "outputId": "0ca37760-39fd-4f7a-a4f7-70f87bbea41b"
      },
      "source": [
        "composite_list = [people_list[x:x+5] for x in range(0, len(people_list),3)]\n",
        "\n",
        "print (composite_list)"
      ],
      "execution_count": 10,
      "outputs": [
        {
          "output_type": "stream",
          "text": [
            "['Wang,', 'g, Ch', 'Chaoj', 'ojie;', 'e; Se', 'Seela', 'lam, ', ', Arj', 'rjun ', 'n Red', 'eddy;', 'y; Ri', 'Rius,', 's, Jo', 'Jonat', 'athan', 'an; L', ' Lian', 'ang, ', ', Jin', 'inqin', 'ing; ', '; Cho', 'howdh', 'dhury', 'ry, D', ' Deba', 'banja', 'jan; ', '; Mas', 'aszki', 'kiewi', 'wicz,', 'z, Lo', 'Lori;', 'i; Ne', 'Negus', 'ussie', 'ie, N', ' Neft', 'ftale', 'lem; ', '; Ste', 'teinr', 'nruck', 'ck, M', ' Mich', 'chael', 'ella;', 'a; Ph', 'Phoga', 'gat, ', ', Shr', 'hresh', 'shta;', 'a; Fa', 'Fatim', 'ima, ', ', Mis', 'isha;', 'a; Hi', 'Hirab', 'abaya', 'yashi', 'hi, S', ' Scot', 'ott; ', '; Sor', 'orous', 'ush, ', ', Mas', 'asoud', 'ud; B', ' Bolz', 'lz, J', ' Jess', 'ssica', 'ca; M', ' Mbu ', 'u Nya', 'yamsi', 'si, T', ' Tchu', 'huiss', 'ssi; ', '; Dok', 'okuzo', 'zoglu', 'lu, Y', ' Yuks', 'ksel;', 'l; Go', 'Gogin', 'ineni', 'ni, S', ' Shai', 'ailes', 'esh; ', '; Pab', 'abbis', 'isett', 'tty, ', ', Sai', 'ai Vi', 'Vinay', 'ay; P', ' Prei', 'eis, ', ', Lia', 'iam; ', '; Jye', 'yesta', 'ta, V', ' Vish', 'shnu ', 'u Pri', 'riya;', 'a; Na', 'Narne', 'ne, Y', ' Yosh', 'shita', 'ta; B', ' Boba', 'ban, ', ', Shr', 'hruth', 'thi; ', '; Obe', 'beroi', 'oi, A', ' Ashr', 'hreen', 'en Ka', 'Kaur;', 'r; Co', 'Cohen', 'ens, ', ', Nas', 'ashik', 'ika; ', '; Nop', 'oppin', 'inger', 'er, K', ' Ken;', 'n; Ka', 'Kakan', 'ani, ', ', Gou', 'outha', 'ham; ', '; Hay', 'ayo, ', ', Aly', 'lyssa', 'sa']\n"
          ],
          "name": "stdout"
        }
      ]
    },
    {
      "cell_type": "code",
      "metadata": {
        "id": "BYnoP-lSc-Ih",
        "colab_type": "code",
        "colab": {
          "base_uri": "https://localhost:8080/",
          "height": 55
        },
        "outputId": "b07660f8-288b-4b98-bd65-8907ff198306"
      },
      "source": [
        "L1 = []\n",
        "for i in range(0, len(people_list), 2):\n",
        "    L1.append(people_list[i : i+2])\n",
        "\n",
        "print(L1)"
      ],
      "execution_count": 14,
      "outputs": [
        {
          "output_type": "stream",
          "text": [
            "['Wa', 'ng', ', ', 'Ch', 'ao', 'ji', 'e;', ' S', 'ee', 'la', 'm,', ' A', 'rj', 'un', ' R', 'ed', 'dy', '; ', 'Ri', 'us', ', ', 'Jo', 'na', 'th', 'an', '; ', 'Li', 'an', 'g,', ' J', 'in', 'qi', 'ng', '; ', 'Ch', 'ow', 'dh', 'ur', 'y,', ' D', 'eb', 'an', 'ja', 'n;', ' M', 'as', 'zk', 'ie', 'wi', 'cz', ', ', 'Lo', 'ri', '; ', 'Ne', 'gu', 'ss', 'ie', ', ', 'Ne', 'ft', 'al', 'em', '; ', 'St', 'ei', 'nr', 'uc', 'k,', ' M', 'ic', 'ha', 'el', 'la', '; ', 'Ph', 'og', 'at', ', ', 'Sh', 're', 'sh', 'ta', '; ', 'Fa', 'ti', 'ma', ', ', 'Mi', 'sh', 'a;', ' H', 'ir', 'ab', 'ay', 'as', 'hi', ', ', 'Sc', 'ot', 't;', ' S', 'or', 'ou', 'sh', ', ', 'Ma', 'so', 'ud', '; ', 'Bo', 'lz', ', ', 'Je', 'ss', 'ic', 'a;', ' M', 'bu', ' N', 'ya', 'ms', 'i,', ' T', 'ch', 'ui', 'ss', 'i;', ' D', 'ok', 'uz', 'og', 'lu', ', ', 'Yu', 'ks', 'el', '; ', 'Go', 'gi', 'ne', 'ni', ', ', 'Sh', 'ai', 'le', 'sh', '; ', 'Pa', 'bb', 'is', 'et', 'ty', ', ', 'Sa', 'i ', 'Vi', 'na', 'y;', ' P', 're', 'is', ', ', 'Li', 'am', '; ', 'Jy', 'es', 'ta', ', ', 'Vi', 'sh', 'nu', ' P', 'ri', 'ya', '; ', 'Na', 'rn', 'e,', ' Y', 'os', 'hi', 'ta', '; ', 'Bo', 'ba', 'n,', ' S', 'hr', 'ut', 'hi', '; ', 'Ob', 'er', 'oi', ', ', 'As', 'hr', 'ee', 'n ', 'Ka', 'ur', '; ', 'Co', 'he', 'ns', ', ', 'Na', 'sh', 'ik', 'a;', ' N', 'op', 'pi', 'ng', 'er', ', ', 'Ke', 'n;', ' K', 'ak', 'an', 'i,', ' G', 'ou', 'th', 'am', '; ', 'Ha', 'yo', ', ', 'Al', 'ys', 'sa']\n"
          ],
          "name": "stdout"
        }
      ]
    },
    {
      "cell_type": "code",
      "metadata": {
        "id": "CQNjEBsjdj1C",
        "colab_type": "code",
        "colab": {
          "base_uri": "https://localhost:8080/",
          "height": 135
        },
        "outputId": "067dc70c-3e00-4be5-ce9f-82c8ca6cb31c"
      },
      "source": [
        "In [people_list]:\n",
        "\n",
        "\n",
        "for l in chunk(people_list, 2):\n",
        "    print(l)"
      ],
      "execution_count": 15,
      "outputs": [
        {
          "output_type": "error",
          "ename": "SyntaxError",
          "evalue": "ignored",
          "traceback": [
            "\u001b[0;36m  File \u001b[0;32m\"<ipython-input-15-493dc82ea5ce>\"\u001b[0;36m, line \u001b[0;32m1\u001b[0m\n\u001b[0;31m    In [people_list]:\u001b[0m\n\u001b[0m                     ^\u001b[0m\n\u001b[0;31mSyntaxError\u001b[0m\u001b[0;31m:\u001b[0m invalid syntax\n"
          ]
        }
      ]
    },
    {
      "cell_type": "code",
      "metadata": {
        "id": "P5MMa9KieGcA",
        "colab_type": "code",
        "colab": {
          "base_uri": "https://localhost:8080/",
          "height": 72
        },
        "outputId": "c76be078-16e5-4fff-991c-cc6a3e9017ff"
      },
      "source": [
        "people_list[::1]"
      ],
      "execution_count": 16,
      "outputs": [
        {
          "output_type": "execute_result",
          "data": {
            "application/vnd.google.colaboratory.intrinsic+json": {
              "type": "string"
            },
            "text/plain": [
              "'Wang, Chaojie; Seelam, Arjun Reddy; Rius, Jonathan; Liang, Jinqing; Chowdhury, Debanjan; Maszkiewicz, Lori; Negussie, Neftalem; Steinruck, Michaella; Phogat, Shreshta; Fatima, Misha; Hirabayashi, Scott; Soroush, Masoud; Bolz, Jessica; Mbu Nyamsi, Tchuissi; Dokuzoglu, Yuksel; Gogineni, Shailesh; Pabbisetty, Sai Vinay; Preis, Liam; Jyesta, Vishnu Priya; Narne, Yoshita; Boban, Shruthi; Oberoi, Ashreen Kaur; Cohens, Nashika; Noppinger, Ken; Kakani, Goutham; Hayo, Alyssa'"
            ]
          },
          "metadata": {
            "tags": []
          },
          "execution_count": 16
        }
      ]
    },
    {
      "cell_type": "code",
      "metadata": {
        "id": "hR7Qf6a7eZWw",
        "colab_type": "code",
        "colab": {}
      },
      "source": [
        "def slice_per(people_list, step):\n",
        "...     return [people_list[i::] for i in range(len(p))]\n",
        "\n"
      ],
      "execution_count": 25,
      "outputs": []
    },
    {
      "cell_type": "code",
      "metadata": {
        "id": "j36FWK30gKLk",
        "colab_type": "code",
        "colab": {
          "base_uri": "https://localhost:8080/",
          "height": 191
        },
        "outputId": "87e1e18d-bf1a-4471-d326-b27ef92142cb"
      },
      "source": [
        "for i in people_list:\n",
        "    y.split()"
      ],
      "execution_count": 31,
      "outputs": [
        {
          "output_type": "error",
          "ename": "AttributeError",
          "evalue": "ignored",
          "traceback": [
            "\u001b[0;31m---------------------------------------------------------------------------\u001b[0m",
            "\u001b[0;31mAttributeError\u001b[0m                            Traceback (most recent call last)",
            "\u001b[0;32m<ipython-input-31-c724137cdbd5>\u001b[0m in \u001b[0;36m<module>\u001b[0;34m()\u001b[0m\n\u001b[1;32m      1\u001b[0m \u001b[0;32mfor\u001b[0m \u001b[0mi\u001b[0m \u001b[0;32min\u001b[0m \u001b[0mpeople_list\u001b[0m\u001b[0;34m:\u001b[0m\u001b[0;34m\u001b[0m\u001b[0;34m\u001b[0m\u001b[0m\n\u001b[0;32m----> 2\u001b[0;31m     \u001b[0my\u001b[0m\u001b[0;34m.\u001b[0m\u001b[0msplit\u001b[0m\u001b[0;34m(\u001b[0m\u001b[0;34m)\u001b[0m\u001b[0;34m\u001b[0m\u001b[0;34m\u001b[0m\u001b[0m\n\u001b[0m",
            "\u001b[0;31mAttributeError\u001b[0m: 'list' object has no attribute 'split'"
          ]
        }
      ]
    }
  ]
}