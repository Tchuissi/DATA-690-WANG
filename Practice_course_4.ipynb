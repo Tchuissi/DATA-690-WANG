{
  "nbformat": 4,
  "nbformat_minor": 0,
  "metadata": {
    "colab": {
      "name": "Practice course 4.ipynb",
      "provenance": [],
      "authorship_tag": "ABX9TyPHzR2g224jYgzQMkiXAaGU",
      "include_colab_link": true
    },
    "kernelspec": {
      "name": "python3",
      "display_name": "Python 3"
    }
  },
  "cells": [
    {
      "cell_type": "markdown",
      "metadata": {
        "id": "view-in-github",
        "colab_type": "text"
      },
      "source": [
        "<a href=\"https://colab.research.google.com/github/Tchuissi/DATA-690-WANG/blob/master/Practice_course_4.ipynb\" target=\"_parent\"><img src=\"https://colab.research.google.com/assets/colab-badge.svg\" alt=\"Open In Colab\"/></a>"
      ]
    },
    {
      "cell_type": "markdown",
      "metadata": {
        "id": "0NbpdrCgySm-",
        "colab_type": "text"
      },
      "source": [
        ""
      ]
    },
    {
      "cell_type": "markdown",
      "metadata": {
        "id": "n4lXbhGXteT0",
        "colab_type": "text"
      },
      "source": [
        "# Assignment 04\n",
        "1. Write code to open the text file [census_cost.txt](census_cost.txt) and read all lines into a list named **\"line_list\"**. Print line_list.\n",
        "2. Extract the first two lines and put them in a different list named \"top2_list\". You will need to use them later. Print the top2_list.\n",
        "3. Put the rest of the lines (containing useful data elements) in a new list named \"data_list\". Print data_list.\n",
        "4. Extract the column **\"Census Year\"** from data_list and assign them to a list named **year_list**. Remove the \"*\" from the last element \"2010*\". Print the cleansed year_list.\n",
        "5. Extract the **\"Total Population\"** column from the data_list and assign them to a list named **\"pop_list\"**. Remove the \",\" from the numbers since Python doesn't recognize them. Print the cleansed \"pop_list\".\n",
        "6. Extract the **\"Census Cost\"** column from the data_list and assign them to a list named **\"cost_list\"**. Remove the \",\", and \"$\", and \"Billion\".\n",
        "\n",
        "Make sure to add the \"0\"s to the numbers from which you removed \"Billion\". Print the cleansed cost_list.  \n",
        "7. Extract the **\"Average Cost per Person\"** column from the data_list and assign them to a list named **\"avg_list\"**. Remove the \"cents\", and \"$\".\n",
        "Make sure to divide the numbers in cents by 100 so that all numbers are measured in dollar. Print the cleansed avg_list.\n",
        "8. Coalesce the cleansed data and save them to a text file named \"census_cost.csv\". The new file should look similar to the original source file except that it is in \n",
        "comma-delimited format and the numbers have been cleansed. The top two lines from the original file should be retained in the new file.\n",
        "9. Open the newly-created file \"census_cost.csv\", read all lines and display them. How does it look?"
      ]
    },
    {
      "cell_type": "code",
      "metadata": {
        "id": "-Nc2TngOVTfU",
        "colab_type": "code",
        "colab": {}
      },
      "source": [
        "\n",
        "\n",
        "with open('data-census1.txt', \"rt\") as f:\n",
        "  line_list=f.readlines()"
      ],
      "execution_count": 24,
      "outputs": []
    },
    {
      "cell_type": "code",
      "metadata": {
        "id": "kBejWiOuahVl",
        "colab_type": "code",
        "colab": {
          "base_uri": "https://localhost:8080/",
          "height": 74
        },
        "outputId": "c97c6b6e-bd73-4e8e-965d-64c05a204ec6"
      },
      "source": [
        "print(line_list)\n",
        "print(type(line_list))"
      ],
      "execution_count": 25,
      "outputs": [
        {
          "output_type": "stream",
          "text": [
            "['\\n', '\\n', 'Census Year\\tTotal Population\\tCensus Cost\\tAverage Cost Per Person\\n', '1790\\t3,929,214\\t$44,377\\t1.13 cents\\n', '1800\\t5,308,483\\t$66,109\\t1.24 cents\\n', '1810\\t7,239,881\\t$178,445\\t2.46 cents\\n', '1820\\t9,633,822\\t$208,526\\t2.16 cents\\n', '1830\\t12,866,020\\t$378,545\\t2.94 cents\\n', '1840\\t17,069,458\\t$833,371\\t4.88 cents\\n', '1850\\t23,191,876\\t$1,423,351\\t6.14 cents\\n', '1860\\t31,443,321\\t$1,969,377\\t6.26 cents\\n', '1870\\t38,558,371\\t$3,421,198\\t8.87 cents\\n', '1880\\t50,155,783\\t$5,790,678\\t11.54 cents\\n', '1890\\t62,979,766\\t$11,547,127\\t18.33 cents\\n', '1900\\t76,303,387\\t$11,854,000\\t15.54 cents\\n', '1910\\t91,972,266\\t$15,968,000\\t17.07 cents\\n', '1920\\t105,710,620\\t$25,117,000\\t23.76 cents\\n', '1930\\t122,775,046\\t$40,156,000\\t32.71 cents\\n', '1940\\t131,669,275\\t$67,527,000\\t51.29 cents\\n', '1950\\t151,325,798\\t$91,462,000\\t60.44 cents\\n', '1960\\t179,323,175\\t$127,934,000\\t71.34 cents\\n', '1970\\t203,302,031\\t$247,653,000\\t$1.22\\n', '1980\\t226,542,199\\t$1,078,488,000\\t$4.76\\n', '1990\\t248,718,301\\t$2,492,830,000\\t$10.02\\n', '2000\\t281,421,906\\t$4.5 Billion\\t$15.99\\n', '2010*\\t308,745,538\\t$13 Billion\\t$42.11\\n', '\\n', '\\n', '\\n', '\\n', '\\n', '\\n', '\\n']\n",
            "<class 'list'>\n"
          ],
          "name": "stdout"
        }
      ]
    },
    {
      "cell_type": "code",
      "metadata": {
        "id": "ppYdcb_Yq6mF",
        "colab_type": "code",
        "colab": {}
      },
      "source": [
        "with open ('top2_list.txt', 'wt') as f:\n",
        "  for line in line_list[2]:\n",
        "    f.write(line)"
      ],
      "execution_count": 26,
      "outputs": []
    },
    {
      "cell_type": "code",
      "metadata": {
        "id": "IZIn2tIebdXb",
        "colab_type": "code",
        "colab": {
          "base_uri": "https://localhost:8080/",
          "height": 1000
        },
        "outputId": "04f6d5a9-4263-4683-bea5-4554b9e97d2b"
      },
      "source": [
        "for row in line_list:\n",
        "  print(row)"
      ],
      "execution_count": 27,
      "outputs": [
        {
          "output_type": "stream",
          "text": [
            "\n",
            "\n",
            "\n",
            "\n",
            "Census Year\tTotal Population\tCensus Cost\tAverage Cost Per Person\n",
            "\n",
            "1790\t3,929,214\t$44,377\t1.13 cents\n",
            "\n",
            "1800\t5,308,483\t$66,109\t1.24 cents\n",
            "\n",
            "1810\t7,239,881\t$178,445\t2.46 cents\n",
            "\n",
            "1820\t9,633,822\t$208,526\t2.16 cents\n",
            "\n",
            "1830\t12,866,020\t$378,545\t2.94 cents\n",
            "\n",
            "1840\t17,069,458\t$833,371\t4.88 cents\n",
            "\n",
            "1850\t23,191,876\t$1,423,351\t6.14 cents\n",
            "\n",
            "1860\t31,443,321\t$1,969,377\t6.26 cents\n",
            "\n",
            "1870\t38,558,371\t$3,421,198\t8.87 cents\n",
            "\n",
            "1880\t50,155,783\t$5,790,678\t11.54 cents\n",
            "\n",
            "1890\t62,979,766\t$11,547,127\t18.33 cents\n",
            "\n",
            "1900\t76,303,387\t$11,854,000\t15.54 cents\n",
            "\n",
            "1910\t91,972,266\t$15,968,000\t17.07 cents\n",
            "\n",
            "1920\t105,710,620\t$25,117,000\t23.76 cents\n",
            "\n",
            "1930\t122,775,046\t$40,156,000\t32.71 cents\n",
            "\n",
            "1940\t131,669,275\t$67,527,000\t51.29 cents\n",
            "\n",
            "1950\t151,325,798\t$91,462,000\t60.44 cents\n",
            "\n",
            "1960\t179,323,175\t$127,934,000\t71.34 cents\n",
            "\n",
            "1970\t203,302,031\t$247,653,000\t$1.22\n",
            "\n",
            "1980\t226,542,199\t$1,078,488,000\t$4.76\n",
            "\n",
            "1990\t248,718,301\t$2,492,830,000\t$10.02\n",
            "\n",
            "2000\t281,421,906\t$4.5 Billion\t$15.99\n",
            "\n",
            "2010*\t308,745,538\t$13 Billion\t$42.11\n",
            "\n",
            "\n",
            "\n",
            "\n",
            "\n",
            "\n",
            "\n",
            "\n",
            "\n",
            "\n",
            "\n",
            "\n",
            "\n",
            "\n",
            "\n"
          ],
          "name": "stdout"
        }
      ]
    },
    {
      "cell_type": "code",
      "metadata": {
        "id": "tqojwRPlk7s3",
        "colab_type": "code",
        "colab": {
          "base_uri": "https://localhost:8080/",
          "height": 35
        },
        "outputId": "6e7ae104-90f3-4ceb-b7be-b72a9c35b65a"
      },
      "source": [
        "len(line_list)"
      ],
      "execution_count": 28,
      "outputs": [
        {
          "output_type": "execute_result",
          "data": {
            "text/plain": [
              "33"
            ]
          },
          "metadata": {
            "tags": []
          },
          "execution_count": 28
        }
      ]
    },
    {
      "cell_type": "code",
      "metadata": {
        "id": "UMtWOiWwlFfl",
        "colab_type": "code",
        "colab": {
          "base_uri": "https://localhost:8080/",
          "height": 55
        },
        "outputId": "702232c5-15ac-4399-ba99-abd0f48d5539"
      },
      "source": [
        "print(line_list[3:])"
      ],
      "execution_count": 29,
      "outputs": [
        {
          "output_type": "stream",
          "text": [
            "['1790\\t3,929,214\\t$44,377\\t1.13 cents\\n', '1800\\t5,308,483\\t$66,109\\t1.24 cents\\n', '1810\\t7,239,881\\t$178,445\\t2.46 cents\\n', '1820\\t9,633,822\\t$208,526\\t2.16 cents\\n', '1830\\t12,866,020\\t$378,545\\t2.94 cents\\n', '1840\\t17,069,458\\t$833,371\\t4.88 cents\\n', '1850\\t23,191,876\\t$1,423,351\\t6.14 cents\\n', '1860\\t31,443,321\\t$1,969,377\\t6.26 cents\\n', '1870\\t38,558,371\\t$3,421,198\\t8.87 cents\\n', '1880\\t50,155,783\\t$5,790,678\\t11.54 cents\\n', '1890\\t62,979,766\\t$11,547,127\\t18.33 cents\\n', '1900\\t76,303,387\\t$11,854,000\\t15.54 cents\\n', '1910\\t91,972,266\\t$15,968,000\\t17.07 cents\\n', '1920\\t105,710,620\\t$25,117,000\\t23.76 cents\\n', '1930\\t122,775,046\\t$40,156,000\\t32.71 cents\\n', '1940\\t131,669,275\\t$67,527,000\\t51.29 cents\\n', '1950\\t151,325,798\\t$91,462,000\\t60.44 cents\\n', '1960\\t179,323,175\\t$127,934,000\\t71.34 cents\\n', '1970\\t203,302,031\\t$247,653,000\\t$1.22\\n', '1980\\t226,542,199\\t$1,078,488,000\\t$4.76\\n', '1990\\t248,718,301\\t$2,492,830,000\\t$10.02\\n', '2000\\t281,421,906\\t$4.5 Billion\\t$15.99\\n', '2010*\\t308,745,538\\t$13 Billion\\t$42.11\\n', '\\n', '\\n', '\\n', '\\n', '\\n', '\\n', '\\n']\n"
          ],
          "name": "stdout"
        }
      ]
    },
    {
      "cell_type": "code",
      "metadata": {
        "id": "1tZBHH_1kz6J",
        "colab_type": "code",
        "colab": {}
      },
      "source": [
        "with open(\"_file.txt\", \"wt\") as f :     #create a new file\n",
        "  for line in line_list[3:13]:\n",
        "    f.write(line.replace(\"\\t\", \",\"))"
      ],
      "execution_count": 30,
      "outputs": []
    },
    {
      "cell_type": "code",
      "metadata": {
        "id": "fi39BAFXx_Y1",
        "colab_type": "code",
        "colab": {}
      },
      "source": [
        "with open(\"top2_list.txt\", \"wt\") as f :     #create a new file\n",
        "  for line in line_list[0:3]:\n",
        "    f.write(line)"
      ],
      "execution_count": 31,
      "outputs": []
    },
    {
      "cell_type": "code",
      "metadata": {
        "id": "Kv1ijgt0ymd9",
        "colab_type": "code",
        "colab": {}
      },
      "source": [
        "with open(\"data_list.txt\", \"wt\") as f :     #create a new file\n",
        "  for line in line_list[3:26]:\n",
        "    f.write(line)"
      ],
      "execution_count": 32,
      "outputs": []
    },
    {
      "cell_type": "code",
      "metadata": {
        "id": "k8k4zPZo2B5L",
        "colab_type": "code",
        "colab": {}
      },
      "source": [
        "with open('data_list.txt', \"rt\") as f:\n",
        "  data_list=f.readlines()"
      ],
      "execution_count": 33,
      "outputs": []
    },
    {
      "cell_type": "code",
      "metadata": {
        "id": "GGQIYFpV2Vse",
        "colab_type": "code",
        "colab": {
          "base_uri": "https://localhost:8080/",
          "height": 55
        },
        "outputId": "859d7355-4836-4805-fa53-678fbfb793f6"
      },
      "source": [
        "print(data_list)"
      ],
      "execution_count": 34,
      "outputs": [
        {
          "output_type": "stream",
          "text": [
            "['1790\\t3,929,214\\t$44,377\\t1.13 cents\\n', '1800\\t5,308,483\\t$66,109\\t1.24 cents\\n', '1810\\t7,239,881\\t$178,445\\t2.46 cents\\n', '1820\\t9,633,822\\t$208,526\\t2.16 cents\\n', '1830\\t12,866,020\\t$378,545\\t2.94 cents\\n', '1840\\t17,069,458\\t$833,371\\t4.88 cents\\n', '1850\\t23,191,876\\t$1,423,351\\t6.14 cents\\n', '1860\\t31,443,321\\t$1,969,377\\t6.26 cents\\n', '1870\\t38,558,371\\t$3,421,198\\t8.87 cents\\n', '1880\\t50,155,783\\t$5,790,678\\t11.54 cents\\n', '1890\\t62,979,766\\t$11,547,127\\t18.33 cents\\n', '1900\\t76,303,387\\t$11,854,000\\t15.54 cents\\n', '1910\\t91,972,266\\t$15,968,000\\t17.07 cents\\n', '1920\\t105,710,620\\t$25,117,000\\t23.76 cents\\n', '1930\\t122,775,046\\t$40,156,000\\t32.71 cents\\n', '1940\\t131,669,275\\t$67,527,000\\t51.29 cents\\n', '1950\\t151,325,798\\t$91,462,000\\t60.44 cents\\n', '1960\\t179,323,175\\t$127,934,000\\t71.34 cents\\n', '1970\\t203,302,031\\t$247,653,000\\t$1.22\\n', '1980\\t226,542,199\\t$1,078,488,000\\t$4.76\\n', '1990\\t248,718,301\\t$2,492,830,000\\t$10.02\\n', '2000\\t281,421,906\\t$4.5 Billion\\t$15.99\\n', '2010*\\t308,745,538\\t$13 Billion\\t$42.11\\n']\n"
          ],
          "name": "stdout"
        }
      ]
    },
    {
      "cell_type": "code",
      "metadata": {
        "id": "fBgSM1oP5zGG",
        "colab_type": "code",
        "colab": {
          "base_uri": "https://localhost:8080/",
          "height": 439
        },
        "outputId": "bee52e93-f843-4fdb-daf1-f4e1a18c7887"
      },
      "source": [
        "with open (\"year_list.txt\", \"wt\") as f:\n",
        " for row in data_list:\n",
        "  year= row.split('\\t')[0].replace(\"*\",\"\")\n",
        "  f.write(year+'\\n')\n",
        "  print(year)\n",
        "   \n",
        "   "
      ],
      "execution_count": 53,
      "outputs": [
        {
          "output_type": "stream",
          "text": [
            "1790\n",
            "1800\n",
            "1810\n",
            "1820\n",
            "1830\n",
            "1840\n",
            "1850\n",
            "1860\n",
            "1870\n",
            "1880\n",
            "1890\n",
            "1900\n",
            "1910\n",
            "1920\n",
            "1930\n",
            "1940\n",
            "1950\n",
            "1960\n",
            "1970\n",
            "1980\n",
            "1990\n",
            "2000\n",
            "2010\n"
          ],
          "name": "stdout"
        }
      ]
    },
    {
      "cell_type": "code",
      "metadata": {
        "id": "h9E3kaL2JS2O",
        "colab_type": "code",
        "colab": {
          "base_uri": "https://localhost:8080/",
          "height": 439
        },
        "outputId": "3606d8c7-0a80-47fb-9761-b9fe5b6b2a23"
      },
      "source": [
        "with open (\"pop_list.txt\", \"wt\") as f:\n",
        " for row in data_list:\n",
        "  pop= row.split('\\t')[1].replace(\",\",\"\")\n",
        "  f.write(pop+'\\n')\n",
        "  print(pop)\n",
        "   "
      ],
      "execution_count": 52,
      "outputs": [
        {
          "output_type": "stream",
          "text": [
            "3929214\n",
            "5308483\n",
            "7239881\n",
            "9633822\n",
            "12866020\n",
            "17069458\n",
            "23191876\n",
            "31443321\n",
            "38558371\n",
            "50155783\n",
            "62979766\n",
            "76303387\n",
            "91972266\n",
            "105710620\n",
            "122775046\n",
            "131669275\n",
            "151325798\n",
            "179323175\n",
            "203302031\n",
            "226542199\n",
            "248718301\n",
            "281421906\n",
            "308745538\n"
          ],
          "name": "stdout"
        }
      ]
    },
    {
      "cell_type": "code",
      "metadata": {
        "id": "FVRokxKBKABW",
        "colab_type": "code",
        "colab": {
          "base_uri": "https://localhost:8080/",
          "height": 439
        },
        "outputId": "27867517-1376-4613-c12b-84acb019ae0c"
      },
      "source": [
        "with open (\"cost_list.txt\", \"wt\") as f:\n",
        " for row in data_list:\n",
        "  cost= row.split('\\t')[2].replace(\",\",\"\").replace(\"$\",\"\")\n",
        "  if cost.find(\"Billion\")!=-1:\n",
        "    cost = cost.replace(\" Billion\", \" \")\n",
        "    tab = str(float(cost)).split(\".\")\n",
        "    puissance = 9\n",
        "    puissance = puissance - len(tab[1]);\n",
        "    cost = str(int(tab[0] + tab[1]) * 10**puissance)\n",
        "    \n",
        "  f.write(cost+'\\n')\n",
        "  print(cost)\n",
        "   "
      ],
      "execution_count": 54,
      "outputs": [
        {
          "output_type": "stream",
          "text": [
            "44377\n",
            "66109\n",
            "178445\n",
            "208526\n",
            "378545\n",
            "833371\n",
            "1423351\n",
            "1969377\n",
            "3421198\n",
            "5790678\n",
            "11547127\n",
            "11854000\n",
            "15968000\n",
            "25117000\n",
            "40156000\n",
            "67527000\n",
            "91462000\n",
            "127934000\n",
            "247653000\n",
            "1078488000\n",
            "2492830000\n",
            "4500000000\n",
            "13000000000\n"
          ],
          "name": "stdout"
        }
      ]
    },
    {
      "cell_type": "code",
      "metadata": {
        "id": "IWLAIZ_PjSxD",
        "colab_type": "code",
        "colab": {
          "base_uri": "https://localhost:8080/",
          "height": 72
        },
        "outputId": "eeb2998c-4449-47b0-80de-3f3f05b40ac8"
      },
      "source": [
        "a = \"44.5530045000 Billion\"\n",
        "cost = cost.replace(\" Billion\", \" \")\n",
        "tab = str(float(cost)).split(\".\")\n",
        "print(tab)\n",
        "puissance = 9\n",
        "puissance = puissance - len(tab[1]);\n",
        "print(puissance);\n",
        "result = str(int(tab[0] + tab[1]) * 10**puissance)\n",
        "print(result)"
      ],
      "execution_count": 38,
      "outputs": [
        {
          "output_type": "stream",
          "text": [
            "['13000000000', '0']\n",
            "8\n",
            "13000000000000000000\n"
          ],
          "name": "stdout"
        }
      ]
    },
    {
      "cell_type": "code",
      "metadata": {
        "id": "801C-e4BNL6j",
        "colab_type": "code",
        "colab": {
          "base_uri": "https://localhost:8080/",
          "height": 439
        },
        "outputId": "e8de8bd1-aafd-4a74-868b-1a9dc3705ea3"
      },
      "source": [
        "with open (\"avg_list.txt\", \"wt\") as f:\n",
        " for row in data_list:\n",
        "   avg = row.split('\\t')[3].replace(\"$\",\"\").replace(\"\\n\",\"\")\n",
        "   if avg.find(\"cents\") !=-1:\n",
        "     avg=avg.replace(\" cents\", \"\")\n",
        "     avg=round(float(avg)/100,4)\n",
        "   f.write(str(avg)+ '\\n')\n",
        "   print(avg)\n"
      ],
      "execution_count": 39,
      "outputs": [
        {
          "output_type": "stream",
          "text": [
            "0.0113\n",
            "0.0124\n",
            "0.0246\n",
            "0.0216\n",
            "0.0294\n",
            "0.0488\n",
            "0.0614\n",
            "0.0626\n",
            "0.0887\n",
            "0.1154\n",
            "0.1833\n",
            "0.1554\n",
            "0.1707\n",
            "0.2376\n",
            "0.3271\n",
            "0.5129\n",
            "0.6044\n",
            "0.7134\n",
            "1.22\n",
            "4.76\n",
            "10.02\n",
            "15.99\n",
            "42.11\n"
          ],
          "name": "stdout"
        }
      ]
    },
    {
      "cell_type": "code",
      "metadata": {
        "id": "EduGTjYeI3ru",
        "colab_type": "code",
        "colab": {}
      },
      "source": [
        ""
      ],
      "execution_count": null,
      "outputs": []
    },
    {
      "cell_type": "code",
      "metadata": {
        "id": "G6R3nv8PHGLl",
        "colab_type": "code",
        "colab": {
          "base_uri": "https://localhost:8080/",
          "height": 439
        },
        "outputId": "32648de6-efa2-499b-94a7-a2e87ba5f3a0"
      },
      "source": [
        " for row in data_list:\n",
        "   print(row.split('\\t')[0])"
      ],
      "execution_count": 40,
      "outputs": [
        {
          "output_type": "stream",
          "text": [
            "1790\n",
            "1800\n",
            "1810\n",
            "1820\n",
            "1830\n",
            "1840\n",
            "1850\n",
            "1860\n",
            "1870\n",
            "1880\n",
            "1890\n",
            "1900\n",
            "1910\n",
            "1920\n",
            "1930\n",
            "1940\n",
            "1950\n",
            "1960\n",
            "1970\n",
            "1980\n",
            "1990\n",
            "2000\n",
            "2010*\n"
          ],
          "name": "stdout"
        }
      ]
    },
    {
      "cell_type": "code",
      "metadata": {
        "id": "O9nokhB9x-LH",
        "colab_type": "code",
        "colab": {
          "base_uri": "https://localhost:8080/",
          "height": 899
        },
        "outputId": "1f303b9d-3755-4c88-c669-f941a55a3858"
      },
      "source": [
        "\n",
        "with open (\"top2_list.txt\", \"rt\") as top2:\n",
        "  top2_list = top2.readlines()[2];\n",
        "  #print(top2_list)\n",
        "with open (\"year_list.txt\", \"rt\") as year:\n",
        "  year_list = year.readlines();\n",
        "  #print(year_list)\n",
        "with open (\"pop_list.txt\", \"rt\") as pop:\n",
        "  pop_list = pop.readlines();\n",
        "  #print(pop_list)\n",
        "with open (\"cost_list.txt\", \"rt\") as cost:\n",
        "  cost_list = cost.readlines();\n",
        "  #print(cost_list)\n",
        "with open (\"avg_list.txt\", \"rt\") as avg:\n",
        "  avg_list = avg.readlines();\n",
        "  #print(avg_list)\n",
        "with open (\"census_gov.csv\", \"wt\") as final:\n",
        "  final.write(\"Source: https://www.genealogybranches.com/censuscosts.html,,,\\n\")\n",
        "  print(top2_list.replace(\"\\t\", \",\"))\n",
        "  final.write(top2_list.replace(\"\\t\", \",\"))\n",
        "  for i in range(len(year_list)):\n",
        "    line = ''\n",
        "    line += year_list[i].replace('\\n',\"\")\n",
        "    line += ',' + pop_list[i].replace('\\n',\"\")\n",
        "    line += ',' + cost_list[i].replace('\\n',\"\")\n",
        "    line += ',' + avg_list[i]\n",
        "    print(line)\n",
        "    final.write(line)"
      ],
      "execution_count": 87,
      "outputs": [
        {
          "output_type": "stream",
          "text": [
            "Census Year,Total Population,Census Cost,Average Cost Per Person\n",
            "\n",
            "1790,3929214,44377,0.0113\n",
            "\n",
            "1800,5308483,66109,0.0124\n",
            "\n",
            "1810,7239881,178445,0.0246\n",
            "\n",
            "1820,9633822,208526,0.0216\n",
            "\n",
            "1830,12866020,378545,0.0294\n",
            "\n",
            "1840,17069458,833371,0.0488\n",
            "\n",
            "1850,23191876,1423351,0.0614\n",
            "\n",
            "1860,31443321,1969377,0.0626\n",
            "\n",
            "1870,38558371,3421198,0.0887\n",
            "\n",
            "1880,50155783,5790678,0.1154\n",
            "\n",
            "1890,62979766,11547127,0.1833\n",
            "\n",
            "1900,76303387,11854000,0.1554\n",
            "\n",
            "1910,91972266,15968000,0.1707\n",
            "\n",
            "1920,105710620,25117000,0.2376\n",
            "\n",
            "1930,122775046,40156000,0.3271\n",
            "\n",
            "1940,131669275,67527000,0.5129\n",
            "\n",
            "1950,151325798,91462000,0.6044\n",
            "\n",
            "1960,179323175,127934000,0.7134\n",
            "\n",
            "1970,203302031,247653000,1.22\n",
            "\n",
            "1980,226542199,1078488000,4.76\n",
            "\n",
            "1990,248718301,2492830000,10.02\n",
            "\n",
            "2000,281421906,4500000000,15.99\n",
            "\n",
            "2010,308745538,13000000000,42.11\n",
            "\n"
          ],
          "name": "stdout"
        }
      ]
    },
    {
      "cell_type": "code",
      "metadata": {
        "id": "3fLFl2Ffp9qM",
        "colab_type": "code",
        "colab": {}
      },
      "source": [
        ""
      ],
      "execution_count": null,
      "outputs": []
    }
  ]
}